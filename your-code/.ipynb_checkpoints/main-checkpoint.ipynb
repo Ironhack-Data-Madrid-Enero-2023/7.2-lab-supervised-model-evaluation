{
 "cells": [
  {
   "cell_type": "markdown",
   "metadata": {},
   "source": [
    "# Supervised Learning Model Evaluation Lab\n",
    "\n",
    "Complete the exercises below to solidify your knowledge and understanding of supervised learning model evaluation."
   ]
  },
  {
   "cell_type": "code",
   "execution_count": 1,
   "metadata": {},
   "outputs": [],
   "source": [
    "import pandas as pd\n",
    "\n",
    "import warnings\n",
    "warnings.filterwarnings('ignore')"
   ]
  },
  {
   "cell_type": "markdown",
   "metadata": {},
   "source": [
    "## Regression Model Evaluation"
   ]
  },
  {
   "cell_type": "code",
   "execution_count": 2,
   "metadata": {},
   "outputs": [],
   "source": [
    "from sklearn.datasets import fetch_california_housing\n",
    "\n",
    "data = fetch_california_housing()\n",
    "\n",
    "X = pd.DataFrame(data[\"data\"], columns=data[\"feature_names\"])\n",
    "y = pd.DataFrame(data[\"target\"], columns=['MEDV'])\n",
    "\n",
    "data = pd.concat([X, y], axis=1)"
   ]
  },
  {
   "cell_type": "markdown",
   "metadata": {},
   "source": [
    "## 1. Split this data set into training (80%) and testing (20%) sets.\n",
    "\n",
    "The `MEDV` field represents the median value of owner-occupied homes (in $1000's) and is the target variable that we will want to predict."
   ]
  },
  {
   "cell_type": "code",
   "execution_count": 3,
   "metadata": {},
   "outputs": [],
   "source": [
    "from sklearn.model_selection import train_test_split\n",
    "\n",
    "X_train, X_test, y_train, y_test  = train_test_split(X, y, train_size=0.8, test_size=0.2, random_state=42)"
   ]
  },
  {
   "cell_type": "markdown",
   "metadata": {},
   "source": [
    "## 2. Train a `LinearRegression` model on this data set and generate predictions on both the training and the testing set."
   ]
  },
  {
   "cell_type": "code",
   "execution_count": 4,
   "metadata": {},
   "outputs": [],
   "source": [
    "from sklearn.linear_model import LinearRegression\n",
    "\n",
    "linreg = LinearRegression()\n",
    "\n",
    "linreg.fit(X_train, y_train)\n",
    "\n",
    "y_pred = linreg.predict(X_test)\n",
    "\n",
    "y_pred_train = linreg.predict(X_train)"
   ]
  },
  {
   "cell_type": "markdown",
   "metadata": {},
   "source": [
    "## 3. Calculate and print R-squared for both the training and the testing set."
   ]
  },
  {
   "cell_type": "code",
   "execution_count": 5,
   "metadata": {},
   "outputs": [
    {
     "name": "stdout",
     "output_type": "stream",
     "text": [
      "Train: 0.6125511913966952\n",
      "Test:0.5757877060324508\n"
     ]
    }
   ],
   "source": [
    "print(f'Train: {linreg.score(X_train, y_train)}\\nTest:{linreg.score(X_test, y_test)}')"
   ]
  },
  {
   "cell_type": "markdown",
   "metadata": {},
   "source": [
    "## 4. Calculate and print mean squared error for both the training and the testing set."
   ]
  },
  {
   "cell_type": "code",
   "execution_count": 6,
   "metadata": {},
   "outputs": [
    {
     "name": "stdout",
     "output_type": "stream",
     "text": [
      "Train: 0.5179331255246699\n",
      "Test:0.5558915986952443\n"
     ]
    }
   ],
   "source": [
    "from sklearn.metrics import mean_squared_error as mse\n",
    "\n",
    "print(f'Train: {mse(y_train, y_pred_train)}\\nTest:{mse(y_test, y_pred)}')"
   ]
  },
  {
   "cell_type": "markdown",
   "metadata": {},
   "source": [
    "## 5. Calculate and print mean absolute error for both the training and the testing set."
   ]
  },
  {
   "cell_type": "code",
   "execution_count": 7,
   "metadata": {},
   "outputs": [
    {
     "name": "stdout",
     "output_type": "stream",
     "text": [
      "Train: 0.5286283596581924\n",
      "Test:0.5332001304956556\n"
     ]
    }
   ],
   "source": [
    "from sklearn.metrics import mean_absolute_error as mae \n",
    "\n",
    "print(f'Train: {mae(y_train, y_pred_train)}\\nTest:{mae(y_test, y_pred)}')"
   ]
  },
  {
   "cell_type": "markdown",
   "metadata": {},
   "source": [
    "## Classification Model Evaluation"
   ]
  },
  {
   "cell_type": "code",
   "execution_count": 8,
   "metadata": {},
   "outputs": [],
   "source": [
    "from sklearn.datasets import load_iris\n",
    "\n",
    "data = load_iris()\n",
    "\n",
    "X = pd.DataFrame(data[\"data\"], columns=data[\"feature_names\"])\n",
    "y = pd.DataFrame(data[\"target\"], columns=[\"class\"])\n",
    "\n",
    "data = pd.concat([X, y], axis=1)"
   ]
  },
  {
   "cell_type": "markdown",
   "metadata": {},
   "source": [
    "## 6. Split this data set into training (80%) and testing (20%) sets.\n",
    "\n",
    "The `class` field represents the type of flower and is the target variable that we will want to predict."
   ]
  },
  {
   "cell_type": "code",
   "execution_count": 9,
   "metadata": {},
   "outputs": [],
   "source": [
    "X_train, X_test, y_train, y_test  = train_test_split(X, y, train_size=0.8, test_size=0.2, random_state=42)"
   ]
  },
  {
   "cell_type": "markdown",
   "metadata": {},
   "source": [
    "## 7. Train a `LogisticRegression` model on this data set and generate predictions on both the training and the testing set."
   ]
  },
  {
   "cell_type": "code",
   "execution_count": 10,
   "metadata": {},
   "outputs": [],
   "source": [
    "from sklearn.linear_model import LogisticRegression\n",
    "\n",
    "logreg = LogisticRegression()\n",
    "\n",
    "logreg.fit(X_train, y_train)\n",
    "\n",
    "y_pred = logreg.predict(X_test)\n",
    "\n",
    "y_pred_train = logreg.predict(X_train)"
   ]
  },
  {
   "cell_type": "markdown",
   "metadata": {},
   "source": [
    "## 8. Calculate and print the accuracy score for both the training and the testing set."
   ]
  },
  {
   "cell_type": "code",
   "execution_count": 11,
   "metadata": {},
   "outputs": [
    {
     "name": "stdout",
     "output_type": "stream",
     "text": [
      "Train: 0.975\n",
      "Test:1.0\n"
     ]
    }
   ],
   "source": [
    "from sklearn.metrics import accuracy_score\n",
    "\n",
    "print(f'Train: {accuracy_score(y_train, y_pred_train)}\\nTest:{accuracy_score(y_test, y_pred)}')"
   ]
  },
  {
   "cell_type": "markdown",
   "metadata": {},
   "source": [
    "## 9. Calculate and print the balanced accuracy score for both the training and the testing set."
   ]
  },
  {
   "cell_type": "code",
   "execution_count": 12,
   "metadata": {},
   "outputs": [
    {
     "name": "stdout",
     "output_type": "stream",
     "text": [
      "Train: 0.975609756097561\n",
      "Test:1.0\n"
     ]
    }
   ],
   "source": [
    "from sklearn.metrics import balanced_accuracy_score\n",
    "\n",
    "print(f'Train: {balanced_accuracy_score(y_train, y_pred_train)}\\nTest:{balanced_accuracy_score(y_test, y_pred)}')"
   ]
  },
  {
   "cell_type": "markdown",
   "metadata": {},
   "source": [
    "## 10. Calculate and print the precision score for both the training and the testing set."
   ]
  },
  {
   "cell_type": "code",
   "execution_count": 13,
   "metadata": {},
   "outputs": [
    {
     "name": "stdout",
     "output_type": "stream",
     "text": [
      "Train: 0.9767857142857144\n",
      "Test:1.0\n"
     ]
    }
   ],
   "source": [
    "from sklearn.metrics import precision_score\n",
    "\n",
    "print(f'Train: {precision_score(y_train, y_pred_train, average=\"weighted\")}\\nTest:{precision_score(y_test, y_pred, average=\"weighted\")}')"
   ]
  },
  {
   "cell_type": "markdown",
   "metadata": {},
   "source": [
    "## 11. Calculate and print the recall score for both the training and the testing set."
   ]
  },
  {
   "cell_type": "code",
   "execution_count": 14,
   "metadata": {},
   "outputs": [
    {
     "name": "stdout",
     "output_type": "stream",
     "text": [
      "Train: 0.975\n",
      "Test:1.0\n"
     ]
    }
   ],
   "source": [
    "from sklearn.metrics import recall_score\n",
    "\n",
    "print(f'Train: {recall_score(y_train, y_pred_train, average=\"weighted\")}\\nTest:{recall_score(y_test, y_pred, average=\"weighted\")}')"
   ]
  },
  {
   "cell_type": "markdown",
   "metadata": {},
   "source": [
    "## 12. Calculate and print the F1 score for both the training and the testing set."
   ]
  },
  {
   "cell_type": "code",
   "execution_count": 15,
   "metadata": {},
   "outputs": [
    {
     "name": "stdout",
     "output_type": "stream",
     "text": [
      "Train: 0.9749882794186592\n",
      "Test:1.0\n"
     ]
    }
   ],
   "source": [
    "from sklearn.metrics import f1_score\n",
    "\n",
    "print(f'Train: {f1_score(y_train, y_pred_train, average=\"weighted\")}\\nTest:{f1_score(y_test, y_pred, average=\"weighted\")}')"
   ]
  },
  {
   "cell_type": "markdown",
   "metadata": {},
   "source": [
    "## 13. Generate confusion matrices for both the training and the testing set."
   ]
  },
  {
   "cell_type": "code",
   "execution_count": 16,
   "metadata": {},
   "outputs": [
    {
     "name": "stdout",
     "output_type": "stream",
     "text": [
      "Train: \n",
      " [[40  0  0]\n",
      " [ 0 38  3]\n",
      " [ 0  0 39]]\n",
      "Test: \n",
      " [[10  0  0]\n",
      " [ 0  9  0]\n",
      " [ 0  0 11]]\n"
     ]
    }
   ],
   "source": [
    "from sklearn.metrics import confusion_matrix\n",
    "\n",
    "print(f'Train: \\n {confusion_matrix(y_train, y_pred_train)}\\nTest: \\n {confusion_matrix(y_test, y_pred)}')"
   ]
  },
  {
   "cell_type": "code",
   "execution_count": 17,
   "metadata": {},
   "outputs": [
    {
     "data": {
      "image/png": "[encoded data removed]",
      "text/plain": [
       "<Figure size 1500x800 with 2 Axes>"
      ]
     },
     "metadata": {},
     "output_type": "display_data"
    }
   ],
   "source": [
    "import pylab as plt\n",
    "import seaborn as sns\n",
    "%matplotlib inline\n",
    "\n",
    "plt.figure(figsize=(15, 8))\n",
    "\n",
    "ax=sns.heatmap(confusion_matrix(y_test, y_pred)/sum(sum(confusion_matrix(y_test, y_pred))), annot=True)\n",
    "\n",
    "plt.title('Matriz confusion')\n",
    "plt.ylabel('Verdad')\n",
    "plt.xlabel('Prediccion')\n",
    "plt.show();"
   ]
  },
  {
   "cell_type": "markdown",
   "metadata": {},
   "source": [
    "## Bonus: For each of the data sets in this lab, try training with some of the other models you have learned about, recalculate the evaluation metrics, and compare to determine which models perform best on each data set."
   ]
  },
  {
   "cell_type": "code",
   "execution_count": 18,
   "metadata": {},
   "outputs": [
    {
     "data": {
      "text/html": [
       "<style type=\"text/css\">\n",
       "#T_b77d5_row8_col1 {\n",
       "  background-color: lightgreen;\n",
       "}\n",
       "</style>\n",
       "<table id=\"T_b77d5\">\n",
       "  <thead>\n",
       "    <tr>\n",
       "      <th class=\"blank level0\" >&nbsp;</th>\n",
       "      <th id=\"T_b77d5_level0_col0\" class=\"col_heading level0 col0\" >Description</th>\n",
       "      <th id=\"T_b77d5_level0_col1\" class=\"col_heading level0 col1\" >Value</th>\n",
       "    </tr>\n",
       "  </thead>\n",
       "  <tbody>\n",
       "    <tr>\n",
       "      <th id=\"T_b77d5_level0_row0\" class=\"row_heading level0 row0\" >0</th>\n",
       "      <td id=\"T_b77d5_row0_col0\" class=\"data row0 col0\" >Session id</td>\n",
       "      <td id=\"T_b77d5_row0_col1\" class=\"data row0 col1\" >123</td>\n",
       "    </tr>\n",
       "    <tr>\n",
       "      <th id=\"T_b77d5_level0_row1\" class=\"row_heading level0 row1\" >1</th>\n",
       "      <td id=\"T_b77d5_row1_col0\" class=\"data row1 col0\" >Target</td>\n",
       "      <td id=\"T_b77d5_row1_col1\" class=\"data row1 col1\" >class</td>\n",
       "    </tr>\n",
       "    <tr>\n",
       "      <th id=\"T_b77d5_level0_row2\" class=\"row_heading level0 row2\" >2</th>\n",
       "      <td id=\"T_b77d5_row2_col0\" class=\"data row2 col0\" >Target type</td>\n",
       "      <td id=\"T_b77d5_row2_col1\" class=\"data row2 col1\" >Multiclass</td>\n",
       "    </tr>\n",
       "    <tr>\n",
       "      <th id=\"T_b77d5_level0_row3\" class=\"row_heading level0 row3\" >3</th>\n",
       "      <td id=\"T_b77d5_row3_col0\" class=\"data row3 col0\" >Original data shape</td>\n",
       "      <td id=\"T_b77d5_row3_col1\" class=\"data row3 col1\" >(150, 5)</td>\n",
       "    </tr>\n",
       "    <tr>\n",
       "      <th id=\"T_b77d5_level0_row4\" class=\"row_heading level0 row4\" >4</th>\n",
       "      <td id=\"T_b77d5_row4_col0\" class=\"data row4 col0\" >Transformed data shape</td>\n",
       "      <td id=\"T_b77d5_row4_col1\" class=\"data row4 col1\" >(150, 5)</td>\n",
       "    </tr>\n",
       "    <tr>\n",
       "      <th id=\"T_b77d5_level0_row5\" class=\"row_heading level0 row5\" >5</th>\n",
       "      <td id=\"T_b77d5_row5_col0\" class=\"data row5 col0\" >Transformed train set shape</td>\n",
       "      <td id=\"T_b77d5_row5_col1\" class=\"data row5 col1\" >(105, 5)</td>\n",
       "    </tr>\n",
       "    <tr>\n",
       "      <th id=\"T_b77d5_level0_row6\" class=\"row_heading level0 row6\" >6</th>\n",
       "      <td id=\"T_b77d5_row6_col0\" class=\"data row6 col0\" >Transformed test set shape</td>\n",
       "      <td id=\"T_b77d5_row6_col1\" class=\"data row6 col1\" >(45, 5)</td>\n",
       "    </tr>\n",
       "    <tr>\n",
       "      <th id=\"T_b77d5_level0_row7\" class=\"row_heading level0 row7\" >7</th>\n",
       "      <td id=\"T_b77d5_row7_col0\" class=\"data row7 col0\" >Numeric features</td>\n",
       "      <td id=\"T_b77d5_row7_col1\" class=\"data row7 col1\" >4</td>\n",
       "    </tr>\n",
       "    <tr>\n",
       "      <th id=\"T_b77d5_level0_row8\" class=\"row_heading level0 row8\" >8</th>\n",
       "      <td id=\"T_b77d5_row8_col0\" class=\"data row8 col0\" >Preprocess</td>\n",
       "      <td id=\"T_b77d5_row8_col1\" class=\"data row8 col1\" >True</td>\n",
       "    </tr>\n",
       "    <tr>\n",
       "      <th id=\"T_b77d5_level0_row9\" class=\"row_heading level0 row9\" >9</th>\n",
       "      <td id=\"T_b77d5_row9_col0\" class=\"data row9 col0\" >Imputation type</td>\n",
       "      <td id=\"T_b77d5_row9_col1\" class=\"data row9 col1\" >simple</td>\n",
       "    </tr>\n",
       "    <tr>\n",
       "      <th id=\"T_b77d5_level0_row10\" class=\"row_heading level0 row10\" >10</th>\n",
       "      <td id=\"T_b77d5_row10_col0\" class=\"data row10 col0\" >Numeric imputation</td>\n",
       "      <td id=\"T_b77d5_row10_col1\" class=\"data row10 col1\" >mean</td>\n",
       "    </tr>\n",
       "    <tr>\n",
       "      <th id=\"T_b77d5_level0_row11\" class=\"row_heading level0 row11\" >11</th>\n",
       "      <td id=\"T_b77d5_row11_col0\" class=\"data row11 col0\" >Categorical imputation</td>\n",
       "      <td id=\"T_b77d5_row11_col1\" class=\"data row11 col1\" >mode</td>\n",
       "    </tr>\n",
       "    <tr>\n",
       "      <th id=\"T_b77d5_level0_row12\" class=\"row_heading level0 row12\" >12</th>\n",
       "      <td id=\"T_b77d5_row12_col0\" class=\"data row12 col0\" >Fold Generator</td>\n",
       "      <td id=\"T_b77d5_row12_col1\" class=\"data row12 col1\" >StratifiedKFold</td>\n",
       "    </tr>\n",
       "    <tr>\n",
       "      <th id=\"T_b77d5_level0_row13\" class=\"row_heading level0 row13\" >13</th>\n",
       "      <td id=\"T_b77d5_row13_col0\" class=\"data row13 col0\" >Fold Number</td>\n",
       "      <td id=\"T_b77d5_row13_col1\" class=\"data row13 col1\" >10</td>\n",
       "    </tr>\n",
       "    <tr>\n",
       "      <th id=\"T_b77d5_level0_row14\" class=\"row_heading level0 row14\" >14</th>\n",
       "      <td id=\"T_b77d5_row14_col0\" class=\"data row14 col0\" >CPU Jobs</td>\n",
       "      <td id=\"T_b77d5_row14_col1\" class=\"data row14 col1\" >-1</td>\n",
       "    </tr>\n",
       "    <tr>\n",
       "      <th id=\"T_b77d5_level0_row15\" class=\"row_heading level0 row15\" >15</th>\n",
       "      <td id=\"T_b77d5_row15_col0\" class=\"data row15 col0\" >Use GPU</td>\n",
       "      <td id=\"T_b77d5_row15_col1\" class=\"data row15 col1\" >False</td>\n",
       "    </tr>\n",
       "    <tr>\n",
       "      <th id=\"T_b77d5_level0_row16\" class=\"row_heading level0 row16\" >16</th>\n",
       "      <td id=\"T_b77d5_row16_col0\" class=\"data row16 col0\" >Log Experiment</td>\n",
       "      <td id=\"T_b77d5_row16_col1\" class=\"data row16 col1\" >False</td>\n",
       "    </tr>\n",
       "    <tr>\n",
       "      <th id=\"T_b77d5_level0_row17\" class=\"row_heading level0 row17\" >17</th>\n",
       "      <td id=\"T_b77d5_row17_col0\" class=\"data row17 col0\" >Experiment Name</td>\n",
       "      <td id=\"T_b77d5_row17_col1\" class=\"data row17 col1\" >clf-default-name</td>\n",
       "    </tr>\n",
       "    <tr>\n",
       "      <th id=\"T_b77d5_level0_row18\" class=\"row_heading level0 row18\" >18</th>\n",
       "      <td id=\"T_b77d5_row18_col0\" class=\"data row18 col0\" >USI</td>\n",
       "      <td id=\"T_b77d5_row18_col1\" class=\"data row18 col1\" >a1e1</td>\n",
       "    </tr>\n",
       "  </tbody>\n",
       "</table>\n"
      ],
      "text/plain": [
       "<pandas.io.formats.style.Styler at 0x7f78579bfac0>"
      ]
     },
     "metadata": {},
     "output_type": "display_data"
    }
   ],
   "source": [
    "from pycaret.classification import *\n",
    "\n",
    "exp_clf101=setup(data=data, target='class', session_id=123) "
   ]
  },
  {
   "cell_type": "code",
   "execution_count": 19,
   "metadata": {},
   "outputs": [
    {
     "data": {
      "text/html": [],
      "text/plain": [
       "<IPython.core.display.HTML object>"
      ]
     },
     "metadata": {},
     "output_type": "display_data"
    },
    {
     "data": {
      "text/html": [
       "<style type=\"text/css\">\n",
       "#T_27b2c th {\n",
       "  text-align: left;\n",
       "}\n",
       "#T_27b2c_row0_col0, #T_27b2c_row0_col2, #T_27b2c_row1_col0, #T_27b2c_row1_col2, #T_27b2c_row2_col0, #T_27b2c_row2_col2, #T_27b2c_row3_col0, #T_27b2c_row4_col0, #T_27b2c_row4_col1, #T_27b2c_row4_col2, #T_27b2c_row4_col3, #T_27b2c_row4_col4, #T_27b2c_row4_col5, #T_27b2c_row4_col6, #T_27b2c_row4_col7, #T_27b2c_row5_col0, #T_27b2c_row5_col1, #T_27b2c_row5_col2, #T_27b2c_row5_col3, #T_27b2c_row5_col4, #T_27b2c_row5_col5, #T_27b2c_row5_col6, #T_27b2c_row5_col7, #T_27b2c_row6_col0, #T_27b2c_row6_col1, #T_27b2c_row6_col2, #T_27b2c_row6_col3, #T_27b2c_row6_col4, #T_27b2c_row6_col5, #T_27b2c_row6_col6, #T_27b2c_row6_col7, #T_27b2c_row7_col0, #T_27b2c_row7_col1, #T_27b2c_row7_col2, #T_27b2c_row7_col3, #T_27b2c_row7_col4, #T_27b2c_row7_col5, #T_27b2c_row7_col6, #T_27b2c_row7_col7, #T_27b2c_row8_col0, #T_27b2c_row8_col1, #T_27b2c_row8_col2, #T_27b2c_row8_col3, #T_27b2c_row8_col4, #T_27b2c_row8_col5, #T_27b2c_row8_col6, #T_27b2c_row8_col7, #T_27b2c_row9_col0, #T_27b2c_row9_col1, #T_27b2c_row9_col2, #T_27b2c_row9_col3, #T_27b2c_row9_col4, #T_27b2c_row9_col5, #T_27b2c_row9_col6, #T_27b2c_row9_col7, #T_27b2c_row10_col0, #T_27b2c_row10_col1, #T_27b2c_row10_col2, #T_27b2c_row10_col3, #T_27b2c_row10_col4, #T_27b2c_row10_col5, #T_27b2c_row10_col6, #T_27b2c_row10_col7, #T_27b2c_row11_col0, #T_27b2c_row11_col1, #T_27b2c_row11_col2, #T_27b2c_row11_col3, #T_27b2c_row11_col4, #T_27b2c_row11_col5, #T_27b2c_row11_col6, #T_27b2c_row11_col7, #T_27b2c_row12_col0, #T_27b2c_row12_col1, #T_27b2c_row12_col2, #T_27b2c_row12_col3, #T_27b2c_row12_col4, #T_27b2c_row12_col5, #T_27b2c_row12_col6, #T_27b2c_row12_col7, #T_27b2c_row13_col0, #T_27b2c_row13_col1, #T_27b2c_row13_col2, #T_27b2c_row13_col3, #T_27b2c_row13_col4, #T_27b2c_row13_col5, #T_27b2c_row13_col6, #T_27b2c_row13_col7 {\n",
       "  text-align: left;\n",
       "}\n",
       "#T_27b2c_row0_col1, #T_27b2c_row0_col3, #T_27b2c_row0_col4, #T_27b2c_row0_col5, #T_27b2c_row0_col6, #T_27b2c_row0_col7, #T_27b2c_row1_col1, #T_27b2c_row1_col3, #T_27b2c_row1_col4, #T_27b2c_row1_col5, #T_27b2c_row1_col6, #T_27b2c_row1_col7, #T_27b2c_row2_col1, #T_27b2c_row2_col3, #T_27b2c_row2_col4, #T_27b2c_row2_col5, #T_27b2c_row2_col6, #T_27b2c_row2_col7, #T_27b2c_row3_col1, #T_27b2c_row3_col2, #T_27b2c_row3_col3, #T_27b2c_row3_col4, #T_27b2c_row3_col5, #T_27b2c_row3_col6, #T_27b2c_row3_col7 {\n",
       "  text-align: left;\n",
       "  background-color: yellow;\n",
       "}\n",
       "#T_27b2c_row0_col8, #T_27b2c_row1_col8, #T_27b2c_row2_col8, #T_27b2c_row3_col8, #T_27b2c_row4_col8, #T_27b2c_row5_col8, #T_27b2c_row6_col8, #T_27b2c_row7_col8, #T_27b2c_row8_col8, #T_27b2c_row9_col8, #T_27b2c_row10_col8, #T_27b2c_row12_col8, #T_27b2c_row13_col8 {\n",
       "  text-align: left;\n",
       "  background-color: lightgrey;\n",
       "}\n",
       "#T_27b2c_row11_col8 {\n",
       "  text-align: left;\n",
       "  background-color: yellow;\n",
       "  background-color: lightgrey;\n",
       "}\n",
       "</style>\n",
       "<table id=\"T_27b2c\">\n",
       "  <thead>\n",
       "    <tr>\n",
       "      <th class=\"blank level0\" >&nbsp;</th>\n",
       "      <th id=\"T_27b2c_level0_col0\" class=\"col_heading level0 col0\" >Model</th>\n",
       "      <th id=\"T_27b2c_level0_col1\" class=\"col_heading level0 col1\" >Accuracy</th>\n",
       "      <th id=\"T_27b2c_level0_col2\" class=\"col_heading level0 col2\" >AUC</th>\n",
       "      <th id=\"T_27b2c_level0_col3\" class=\"col_heading level0 col3\" >Recall</th>\n",
       "      <th id=\"T_27b2c_level0_col4\" class=\"col_heading level0 col4\" >Prec.</th>\n",
       "      <th id=\"T_27b2c_level0_col5\" class=\"col_heading level0 col5\" >F1</th>\n",
       "      <th id=\"T_27b2c_level0_col6\" class=\"col_heading level0 col6\" >Kappa</th>\n",
       "      <th id=\"T_27b2c_level0_col7\" class=\"col_heading level0 col7\" >MCC</th>\n",
       "      <th id=\"T_27b2c_level0_col8\" class=\"col_heading level0 col8\" >TT (Sec)</th>\n",
       "    </tr>\n",
       "  </thead>\n",
       "  <tbody>\n",
       "    <tr>\n",
       "      <th id=\"T_27b2c_level0_row0\" class=\"row_heading level0 row0\" >lr</th>\n",
       "      <td id=\"T_27b2c_row0_col0\" class=\"data row0 col0\" >Logistic Regression</td>\n",
       "      <td id=\"T_27b2c_row0_col1\" class=\"data row0 col1\" >0.9718</td>\n",
       "      <td id=\"T_27b2c_row0_col2\" class=\"data row0 col2\" >0.9971</td>\n",
       "      <td id=\"T_27b2c_row0_col3\" class=\"data row0 col3\" >0.9718</td>\n",
       "      <td id=\"T_27b2c_row0_col4\" class=\"data row0 col4\" >0.9780</td>\n",
       "      <td id=\"T_27b2c_row0_col5\" class=\"data row0 col5\" >0.9712</td>\n",
       "      <td id=\"T_27b2c_row0_col6\" class=\"data row0 col6\" >0.9573</td>\n",
       "      <td id=\"T_27b2c_row0_col7\" class=\"data row0 col7\" >0.9609</td>\n",
       "      <td id=\"T_27b2c_row0_col8\" class=\"data row0 col8\" >0.5460</td>\n",
       "    </tr>\n",
       "    <tr>\n",
       "      <th id=\"T_27b2c_level0_row1\" class=\"row_heading level0 row1\" >knn</th>\n",
       "      <td id=\"T_27b2c_row1_col0\" class=\"data row1 col0\" >K Neighbors Classifier</td>\n",
       "      <td id=\"T_27b2c_row1_col1\" class=\"data row1 col1\" >0.9718</td>\n",
       "      <td id=\"T_27b2c_row1_col2\" class=\"data row1 col2\" >0.9830</td>\n",
       "      <td id=\"T_27b2c_row1_col3\" class=\"data row1 col3\" >0.9718</td>\n",
       "      <td id=\"T_27b2c_row1_col4\" class=\"data row1 col4\" >0.9780</td>\n",
       "      <td id=\"T_27b2c_row1_col5\" class=\"data row1 col5\" >0.9712</td>\n",
       "      <td id=\"T_27b2c_row1_col6\" class=\"data row1 col6\" >0.9573</td>\n",
       "      <td id=\"T_27b2c_row1_col7\" class=\"data row1 col7\" >0.9609</td>\n",
       "      <td id=\"T_27b2c_row1_col8\" class=\"data row1 col8\" >0.0300</td>\n",
       "    </tr>\n",
       "    <tr>\n",
       "      <th id=\"T_27b2c_level0_row2\" class=\"row_heading level0 row2\" >qda</th>\n",
       "      <td id=\"T_27b2c_row2_col0\" class=\"data row2 col0\" >Quadratic Discriminant Analysis</td>\n",
       "      <td id=\"T_27b2c_row2_col1\" class=\"data row2 col1\" >0.9718</td>\n",
       "      <td id=\"T_27b2c_row2_col2\" class=\"data row2 col2\" >0.9974</td>\n",
       "      <td id=\"T_27b2c_row2_col3\" class=\"data row2 col3\" >0.9718</td>\n",
       "      <td id=\"T_27b2c_row2_col4\" class=\"data row2 col4\" >0.9780</td>\n",
       "      <td id=\"T_27b2c_row2_col5\" class=\"data row2 col5\" >0.9712</td>\n",
       "      <td id=\"T_27b2c_row2_col6\" class=\"data row2 col6\" >0.9573</td>\n",
       "      <td id=\"T_27b2c_row2_col7\" class=\"data row2 col7\" >0.9609</td>\n",
       "      <td id=\"T_27b2c_row2_col8\" class=\"data row2 col8\" >0.0240</td>\n",
       "    </tr>\n",
       "    <tr>\n",
       "      <th id=\"T_27b2c_level0_row3\" class=\"row_heading level0 row3\" >lda</th>\n",
       "      <td id=\"T_27b2c_row3_col0\" class=\"data row3 col0\" >Linear Discriminant Analysis</td>\n",
       "      <td id=\"T_27b2c_row3_col1\" class=\"data row3 col1\" >0.9718</td>\n",
       "      <td id=\"T_27b2c_row3_col2\" class=\"data row3 col2\" >1.0000</td>\n",
       "      <td id=\"T_27b2c_row3_col3\" class=\"data row3 col3\" >0.9718</td>\n",
       "      <td id=\"T_27b2c_row3_col4\" class=\"data row3 col4\" >0.9780</td>\n",
       "      <td id=\"T_27b2c_row3_col5\" class=\"data row3 col5\" >0.9712</td>\n",
       "      <td id=\"T_27b2c_row3_col6\" class=\"data row3 col6\" >0.9573</td>\n",
       "      <td id=\"T_27b2c_row3_col7\" class=\"data row3 col7\" >0.9609</td>\n",
       "      <td id=\"T_27b2c_row3_col8\" class=\"data row3 col8\" >0.0220</td>\n",
       "    </tr>\n",
       "    <tr>\n",
       "      <th id=\"T_27b2c_level0_row4\" class=\"row_heading level0 row4\" >lightgbm</th>\n",
       "      <td id=\"T_27b2c_row4_col0\" class=\"data row4 col0\" >Light Gradient Boosting Machine</td>\n",
       "      <td id=\"T_27b2c_row4_col1\" class=\"data row4 col1\" >0.9536</td>\n",
       "      <td id=\"T_27b2c_row4_col2\" class=\"data row4 col2\" >0.9935</td>\n",
       "      <td id=\"T_27b2c_row4_col3\" class=\"data row4 col3\" >0.9536</td>\n",
       "      <td id=\"T_27b2c_row4_col4\" class=\"data row4 col4\" >0.9634</td>\n",
       "      <td id=\"T_27b2c_row4_col5\" class=\"data row4 col5\" >0.9528</td>\n",
       "      <td id=\"T_27b2c_row4_col6\" class=\"data row4 col6\" >0.9298</td>\n",
       "      <td id=\"T_27b2c_row4_col7\" class=\"data row4 col7\" >0.9356</td>\n",
       "      <td id=\"T_27b2c_row4_col8\" class=\"data row4 col8\" >0.1630</td>\n",
       "    </tr>\n",
       "    <tr>\n",
       "      <th id=\"T_27b2c_level0_row5\" class=\"row_heading level0 row5\" >nb</th>\n",
       "      <td id=\"T_27b2c_row5_col0\" class=\"data row5 col0\" >Naive Bayes</td>\n",
       "      <td id=\"T_27b2c_row5_col1\" class=\"data row5 col1\" >0.9445</td>\n",
       "      <td id=\"T_27b2c_row5_col2\" class=\"data row5 col2\" >0.9868</td>\n",
       "      <td id=\"T_27b2c_row5_col3\" class=\"data row5 col3\" >0.9445</td>\n",
       "      <td id=\"T_27b2c_row5_col4\" class=\"data row5 col4\" >0.9525</td>\n",
       "      <td id=\"T_27b2c_row5_col5\" class=\"data row5 col5\" >0.9438</td>\n",
       "      <td id=\"T_27b2c_row5_col6\" class=\"data row5 col6\" >0.9161</td>\n",
       "      <td id=\"T_27b2c_row5_col7\" class=\"data row5 col7\" >0.9207</td>\n",
       "      <td id=\"T_27b2c_row5_col8\" class=\"data row5 col8\" >0.0190</td>\n",
       "    </tr>\n",
       "    <tr>\n",
       "      <th id=\"T_27b2c_level0_row6\" class=\"row_heading level0 row6\" >et</th>\n",
       "      <td id=\"T_27b2c_row6_col0\" class=\"data row6 col0\" >Extra Trees Classifier</td>\n",
       "      <td id=\"T_27b2c_row6_col1\" class=\"data row6 col1\" >0.9445</td>\n",
       "      <td id=\"T_27b2c_row6_col2\" class=\"data row6 col2\" >0.9935</td>\n",
       "      <td id=\"T_27b2c_row6_col3\" class=\"data row6 col3\" >0.9445</td>\n",
       "      <td id=\"T_27b2c_row6_col4\" class=\"data row6 col4\" >0.9586</td>\n",
       "      <td id=\"T_27b2c_row6_col5\" class=\"data row6 col5\" >0.9426</td>\n",
       "      <td id=\"T_27b2c_row6_col6\" class=\"data row6 col6\" >0.9161</td>\n",
       "      <td id=\"T_27b2c_row6_col7\" class=\"data row6 col7\" >0.9246</td>\n",
       "      <td id=\"T_27b2c_row6_col8\" class=\"data row6 col8\" >0.0690</td>\n",
       "    </tr>\n",
       "    <tr>\n",
       "      <th id=\"T_27b2c_level0_row7\" class=\"row_heading level0 row7\" >gbc</th>\n",
       "      <td id=\"T_27b2c_row7_col0\" class=\"data row7 col0\" >Gradient Boosting Classifier</td>\n",
       "      <td id=\"T_27b2c_row7_col1\" class=\"data row7 col1\" >0.9355</td>\n",
       "      <td id=\"T_27b2c_row7_col2\" class=\"data row7 col2\" >0.9792</td>\n",
       "      <td id=\"T_27b2c_row7_col3\" class=\"data row7 col3\" >0.9355</td>\n",
       "      <td id=\"T_27b2c_row7_col4\" class=\"data row7 col4\" >0.9416</td>\n",
       "      <td id=\"T_27b2c_row7_col5\" class=\"data row7 col5\" >0.9325</td>\n",
       "      <td id=\"T_27b2c_row7_col6\" class=\"data row7 col6\" >0.9023</td>\n",
       "      <td id=\"T_27b2c_row7_col7\" class=\"data row7 col7\" >0.9083</td>\n",
       "      <td id=\"T_27b2c_row7_col8\" class=\"data row7 col8\" >0.1010</td>\n",
       "    </tr>\n",
       "    <tr>\n",
       "      <th id=\"T_27b2c_level0_row8\" class=\"row_heading level0 row8\" >dt</th>\n",
       "      <td id=\"T_27b2c_row8_col0\" class=\"data row8 col0\" >Decision Tree Classifier</td>\n",
       "      <td id=\"T_27b2c_row8_col1\" class=\"data row8 col1\" >0.9264</td>\n",
       "      <td id=\"T_27b2c_row8_col2\" class=\"data row8 col2\" >0.9429</td>\n",
       "      <td id=\"T_27b2c_row8_col3\" class=\"data row8 col3\" >0.9264</td>\n",
       "      <td id=\"T_27b2c_row8_col4\" class=\"data row8 col4\" >0.9502</td>\n",
       "      <td id=\"T_27b2c_row8_col5\" class=\"data row8 col5\" >0.9201</td>\n",
       "      <td id=\"T_27b2c_row8_col6\" class=\"data row8 col6\" >0.8886</td>\n",
       "      <td id=\"T_27b2c_row8_col7\" class=\"data row8 col7\" >0.9040</td>\n",
       "      <td id=\"T_27b2c_row8_col8\" class=\"data row8 col8\" >0.0190</td>\n",
       "    </tr>\n",
       "    <tr>\n",
       "      <th id=\"T_27b2c_level0_row9\" class=\"row_heading level0 row9\" >rf</th>\n",
       "      <td id=\"T_27b2c_row9_col0\" class=\"data row9 col0\" >Random Forest Classifier</td>\n",
       "      <td id=\"T_27b2c_row9_col1\" class=\"data row9 col1\" >0.9264</td>\n",
       "      <td id=\"T_27b2c_row9_col2\" class=\"data row9 col2\" >0.9909</td>\n",
       "      <td id=\"T_27b2c_row9_col3\" class=\"data row9 col3\" >0.9264</td>\n",
       "      <td id=\"T_27b2c_row9_col4\" class=\"data row9 col4\" >0.9343</td>\n",
       "      <td id=\"T_27b2c_row9_col5\" class=\"data row9 col5\" >0.9232</td>\n",
       "      <td id=\"T_27b2c_row9_col6\" class=\"data row9 col6\" >0.8886</td>\n",
       "      <td id=\"T_27b2c_row9_col7\" class=\"data row9 col7\" >0.8956</td>\n",
       "      <td id=\"T_27b2c_row9_col8\" class=\"data row9 col8\" >0.0760</td>\n",
       "    </tr>\n",
       "    <tr>\n",
       "      <th id=\"T_27b2c_level0_row10\" class=\"row_heading level0 row10\" >ada</th>\n",
       "      <td id=\"T_27b2c_row10_col0\" class=\"data row10 col0\" >Ada Boost Classifier</td>\n",
       "      <td id=\"T_27b2c_row10_col1\" class=\"data row10 col1\" >0.9155</td>\n",
       "      <td id=\"T_27b2c_row10_col2\" class=\"data row10 col2\" >0.9947</td>\n",
       "      <td id=\"T_27b2c_row10_col3\" class=\"data row10 col3\" >0.9155</td>\n",
       "      <td id=\"T_27b2c_row10_col4\" class=\"data row10 col4\" >0.9401</td>\n",
       "      <td id=\"T_27b2c_row10_col5\" class=\"data row10 col5\" >0.9097</td>\n",
       "      <td id=\"T_27b2c_row10_col6\" class=\"data row10 col6\" >0.8720</td>\n",
       "      <td id=\"T_27b2c_row10_col7\" class=\"data row10 col7\" >0.8873</td>\n",
       "      <td id=\"T_27b2c_row10_col8\" class=\"data row10 col8\" >0.0440</td>\n",
       "    </tr>\n",
       "    <tr>\n",
       "      <th id=\"T_27b2c_level0_row11\" class=\"row_heading level0 row11\" >ridge</th>\n",
       "      <td id=\"T_27b2c_row11_col0\" class=\"data row11 col0\" >Ridge Classifier</td>\n",
       "      <td id=\"T_27b2c_row11_col1\" class=\"data row11 col1\" >0.8227</td>\n",
       "      <td id=\"T_27b2c_row11_col2\" class=\"data row11 col2\" >0.0000</td>\n",
       "      <td id=\"T_27b2c_row11_col3\" class=\"data row11 col3\" >0.8227</td>\n",
       "      <td id=\"T_27b2c_row11_col4\" class=\"data row11 col4\" >0.8437</td>\n",
       "      <td id=\"T_27b2c_row11_col5\" class=\"data row11 col5\" >0.8186</td>\n",
       "      <td id=\"T_27b2c_row11_col6\" class=\"data row11 col6\" >0.7320</td>\n",
       "      <td id=\"T_27b2c_row11_col7\" class=\"data row11 col7\" >0.7454</td>\n",
       "      <td id=\"T_27b2c_row11_col8\" class=\"data row11 col8\" >0.0150</td>\n",
       "    </tr>\n",
       "    <tr>\n",
       "      <th id=\"T_27b2c_level0_row12\" class=\"row_heading level0 row12\" >svm</th>\n",
       "      <td id=\"T_27b2c_row12_col0\" class=\"data row12 col0\" >SVM - Linear Kernel</td>\n",
       "      <td id=\"T_27b2c_row12_col1\" class=\"data row12 col1\" >0.7618</td>\n",
       "      <td id=\"T_27b2c_row12_col2\" class=\"data row12 col2\" >0.0000</td>\n",
       "      <td id=\"T_27b2c_row12_col3\" class=\"data row12 col3\" >0.7618</td>\n",
       "      <td id=\"T_27b2c_row12_col4\" class=\"data row12 col4\" >0.6655</td>\n",
       "      <td id=\"T_27b2c_row12_col5\" class=\"data row12 col5\" >0.6888</td>\n",
       "      <td id=\"T_27b2c_row12_col6\" class=\"data row12 col6\" >0.6333</td>\n",
       "      <td id=\"T_27b2c_row12_col7\" class=\"data row12 col7\" >0.7048</td>\n",
       "      <td id=\"T_27b2c_row12_col8\" class=\"data row12 col8\" >0.0160</td>\n",
       "    </tr>\n",
       "    <tr>\n",
       "      <th id=\"T_27b2c_level0_row13\" class=\"row_heading level0 row13\" >dummy</th>\n",
       "      <td id=\"T_27b2c_row13_col0\" class=\"data row13 col0\" >Dummy Classifier</td>\n",
       "      <td id=\"T_27b2c_row13_col1\" class=\"data row13 col1\" >0.2864</td>\n",
       "      <td id=\"T_27b2c_row13_col2\" class=\"data row13 col2\" >0.5000</td>\n",
       "      <td id=\"T_27b2c_row13_col3\" class=\"data row13 col3\" >0.2864</td>\n",
       "      <td id=\"T_27b2c_row13_col4\" class=\"data row13 col4\" >0.0822</td>\n",
       "      <td id=\"T_27b2c_row13_col5\" class=\"data row13 col5\" >0.1277</td>\n",
       "      <td id=\"T_27b2c_row13_col6\" class=\"data row13 col6\" >0.0000</td>\n",
       "      <td id=\"T_27b2c_row13_col7\" class=\"data row13 col7\" >0.0000</td>\n",
       "      <td id=\"T_27b2c_row13_col8\" class=\"data row13 col8\" >0.0210</td>\n",
       "    </tr>\n",
       "  </tbody>\n",
       "</table>\n"
      ],
      "text/plain": [
       "<pandas.io.formats.style.Styler at 0x7f7851c22730>"
      ]
     },
     "metadata": {},
     "output_type": "display_data"
    },
    {
     "data": {
      "application/vnd.jupyter.widget-view+json": {
       "model_id": "",
       "version_major": 2,
       "version_minor": 0
      },
      "text/plain": [
       "Processing:   0%|          | 0/61 [00:00<?, ?it/s]"
      ]
     },
     "metadata": {},
     "output_type": "display_data"
    },
    {
     "data": {
      "text/plain": [
       "LogisticRegression(C=1.0, class_weight=None, dual=False, fit_intercept=True,\n",
       "                   intercept_scaling=1, l1_ratio=None, max_iter=1000,\n",
       "                   multi_class='auto', n_jobs=None, penalty='l2',\n",
       "                   random_state=123, solver='lbfgs', tol=0.0001, verbose=0,\n",
       "                   warm_start=False)"
      ]
     },
     "execution_count": 19,
     "metadata": {},
     "output_type": "execute_result"
    }
   ],
   "source": [
    "compare_models()"
   ]
  },
  {
   "cell_type": "code",
   "execution_count": 20,
   "metadata": {},
   "outputs": [
    {
     "data": {
      "text/html": [],
      "text/plain": [
       "<IPython.core.display.HTML object>"
      ]
     },
     "metadata": {},
     "output_type": "display_data"
    },
    {
     "data": {
      "text/html": [
       "<style type=\"text/css\">\n",
       "#T_b902b_row10_col0, #T_b902b_row10_col1, #T_b902b_row10_col2, #T_b902b_row10_col3, #T_b902b_row10_col4, #T_b902b_row10_col5, #T_b902b_row10_col6 {\n",
       "  background: yellow;\n",
       "}\n",
       "</style>\n",
       "<table id=\"T_b902b\">\n",
       "  <thead>\n",
       "    <tr>\n",
       "      <th class=\"blank level0\" >&nbsp;</th>\n",
       "      <th id=\"T_b902b_level0_col0\" class=\"col_heading level0 col0\" >Accuracy</th>\n",
       "      <th id=\"T_b902b_level0_col1\" class=\"col_heading level0 col1\" >AUC</th>\n",
       "      <th id=\"T_b902b_level0_col2\" class=\"col_heading level0 col2\" >Recall</th>\n",
       "      <th id=\"T_b902b_level0_col3\" class=\"col_heading level0 col3\" >Prec.</th>\n",
       "      <th id=\"T_b902b_level0_col4\" class=\"col_heading level0 col4\" >F1</th>\n",
       "      <th id=\"T_b902b_level0_col5\" class=\"col_heading level0 col5\" >Kappa</th>\n",
       "      <th id=\"T_b902b_level0_col6\" class=\"col_heading level0 col6\" >MCC</th>\n",
       "    </tr>\n",
       "    <tr>\n",
       "      <th class=\"index_name level0\" >Fold</th>\n",
       "      <th class=\"blank col0\" >&nbsp;</th>\n",
       "      <th class=\"blank col1\" >&nbsp;</th>\n",
       "      <th class=\"blank col2\" >&nbsp;</th>\n",
       "      <th class=\"blank col3\" >&nbsp;</th>\n",
       "      <th class=\"blank col4\" >&nbsp;</th>\n",
       "      <th class=\"blank col5\" >&nbsp;</th>\n",
       "      <th class=\"blank col6\" >&nbsp;</th>\n",
       "    </tr>\n",
       "  </thead>\n",
       "  <tbody>\n",
       "    <tr>\n",
       "      <th id=\"T_b902b_level0_row0\" class=\"row_heading level0 row0\" >0</th>\n",
       "      <td id=\"T_b902b_row0_col0\" class=\"data row0 col0\" >0.9091</td>\n",
       "      <td id=\"T_b902b_row0_col1\" class=\"data row0 col1\" >1.0000</td>\n",
       "      <td id=\"T_b902b_row0_col2\" class=\"data row0 col2\" >0.9091</td>\n",
       "      <td id=\"T_b902b_row0_col3\" class=\"data row0 col3\" >0.9273</td>\n",
       "      <td id=\"T_b902b_row0_col4\" class=\"data row0 col4\" >0.9076</td>\n",
       "      <td id=\"T_b902b_row0_col5\" class=\"data row0 col5\" >0.8625</td>\n",
       "      <td id=\"T_b902b_row0_col6\" class=\"data row0 col6\" >0.8735</td>\n",
       "    </tr>\n",
       "    <tr>\n",
       "      <th id=\"T_b902b_level0_row1\" class=\"row_heading level0 row1\" >1</th>\n",
       "      <td id=\"T_b902b_row1_col0\" class=\"data row1 col0\" >1.0000</td>\n",
       "      <td id=\"T_b902b_row1_col1\" class=\"data row1 col1\" >1.0000</td>\n",
       "      <td id=\"T_b902b_row1_col2\" class=\"data row1 col2\" >1.0000</td>\n",
       "      <td id=\"T_b902b_row1_col3\" class=\"data row1 col3\" >1.0000</td>\n",
       "      <td id=\"T_b902b_row1_col4\" class=\"data row1 col4\" >1.0000</td>\n",
       "      <td id=\"T_b902b_row1_col5\" class=\"data row1 col5\" >1.0000</td>\n",
       "      <td id=\"T_b902b_row1_col6\" class=\"data row1 col6\" >1.0000</td>\n",
       "    </tr>\n",
       "    <tr>\n",
       "      <th id=\"T_b902b_level0_row2\" class=\"row_heading level0 row2\" >2</th>\n",
       "      <td id=\"T_b902b_row2_col0\" class=\"data row2 col0\" >1.0000</td>\n",
       "      <td id=\"T_b902b_row2_col1\" class=\"data row2 col1\" >1.0000</td>\n",
       "      <td id=\"T_b902b_row2_col2\" class=\"data row2 col2\" >1.0000</td>\n",
       "      <td id=\"T_b902b_row2_col3\" class=\"data row2 col3\" >1.0000</td>\n",
       "      <td id=\"T_b902b_row2_col4\" class=\"data row2 col4\" >1.0000</td>\n",
       "      <td id=\"T_b902b_row2_col5\" class=\"data row2 col5\" >1.0000</td>\n",
       "      <td id=\"T_b902b_row2_col6\" class=\"data row2 col6\" >1.0000</td>\n",
       "    </tr>\n",
       "    <tr>\n",
       "      <th id=\"T_b902b_level0_row3\" class=\"row_heading level0 row3\" >3</th>\n",
       "      <td id=\"T_b902b_row3_col0\" class=\"data row3 col0\" >0.9091</td>\n",
       "      <td id=\"T_b902b_row3_col1\" class=\"data row3 col1\" >1.0000</td>\n",
       "      <td id=\"T_b902b_row3_col2\" class=\"data row3 col2\" >0.9091</td>\n",
       "      <td id=\"T_b902b_row3_col3\" class=\"data row3 col3\" >0.9273</td>\n",
       "      <td id=\"T_b902b_row3_col4\" class=\"data row3 col4\" >0.9076</td>\n",
       "      <td id=\"T_b902b_row3_col5\" class=\"data row3 col5\" >0.8625</td>\n",
       "      <td id=\"T_b902b_row3_col6\" class=\"data row3 col6\" >0.8735</td>\n",
       "    </tr>\n",
       "    <tr>\n",
       "      <th id=\"T_b902b_level0_row4\" class=\"row_heading level0 row4\" >4</th>\n",
       "      <td id=\"T_b902b_row4_col0\" class=\"data row4 col0\" >1.0000</td>\n",
       "      <td id=\"T_b902b_row4_col1\" class=\"data row4 col1\" >1.0000</td>\n",
       "      <td id=\"T_b902b_row4_col2\" class=\"data row4 col2\" >1.0000</td>\n",
       "      <td id=\"T_b902b_row4_col3\" class=\"data row4 col3\" >1.0000</td>\n",
       "      <td id=\"T_b902b_row4_col4\" class=\"data row4 col4\" >1.0000</td>\n",
       "      <td id=\"T_b902b_row4_col5\" class=\"data row4 col5\" >1.0000</td>\n",
       "      <td id=\"T_b902b_row4_col6\" class=\"data row4 col6\" >1.0000</td>\n",
       "    </tr>\n",
       "    <tr>\n",
       "      <th id=\"T_b902b_level0_row5\" class=\"row_heading level0 row5\" >5</th>\n",
       "      <td id=\"T_b902b_row5_col0\" class=\"data row5 col0\" >0.9000</td>\n",
       "      <td id=\"T_b902b_row5_col1\" class=\"data row5 col1\" >1.0000</td>\n",
       "      <td id=\"T_b902b_row5_col2\" class=\"data row5 col2\" >0.9000</td>\n",
       "      <td id=\"T_b902b_row5_col3\" class=\"data row5 col3\" >0.9250</td>\n",
       "      <td id=\"T_b902b_row5_col4\" class=\"data row5 col4\" >0.8971</td>\n",
       "      <td id=\"T_b902b_row5_col5\" class=\"data row5 col5\" >0.8485</td>\n",
       "      <td id=\"T_b902b_row5_col6\" class=\"data row5 col6\" >0.8616</td>\n",
       "    </tr>\n",
       "    <tr>\n",
       "      <th id=\"T_b902b_level0_row6\" class=\"row_heading level0 row6\" >6</th>\n",
       "      <td id=\"T_b902b_row6_col0\" class=\"data row6 col0\" >1.0000</td>\n",
       "      <td id=\"T_b902b_row6_col1\" class=\"data row6 col1\" >1.0000</td>\n",
       "      <td id=\"T_b902b_row6_col2\" class=\"data row6 col2\" >1.0000</td>\n",
       "      <td id=\"T_b902b_row6_col3\" class=\"data row6 col3\" >1.0000</td>\n",
       "      <td id=\"T_b902b_row6_col4\" class=\"data row6 col4\" >1.0000</td>\n",
       "      <td id=\"T_b902b_row6_col5\" class=\"data row6 col5\" >1.0000</td>\n",
       "      <td id=\"T_b902b_row6_col6\" class=\"data row6 col6\" >1.0000</td>\n",
       "    </tr>\n",
       "    <tr>\n",
       "      <th id=\"T_b902b_level0_row7\" class=\"row_heading level0 row7\" >7</th>\n",
       "      <td id=\"T_b902b_row7_col0\" class=\"data row7 col0\" >1.0000</td>\n",
       "      <td id=\"T_b902b_row7_col1\" class=\"data row7 col1\" >1.0000</td>\n",
       "      <td id=\"T_b902b_row7_col2\" class=\"data row7 col2\" >1.0000</td>\n",
       "      <td id=\"T_b902b_row7_col3\" class=\"data row7 col3\" >1.0000</td>\n",
       "      <td id=\"T_b902b_row7_col4\" class=\"data row7 col4\" >1.0000</td>\n",
       "      <td id=\"T_b902b_row7_col5\" class=\"data row7 col5\" >1.0000</td>\n",
       "      <td id=\"T_b902b_row7_col6\" class=\"data row7 col6\" >1.0000</td>\n",
       "    </tr>\n",
       "    <tr>\n",
       "      <th id=\"T_b902b_level0_row8\" class=\"row_heading level0 row8\" >8</th>\n",
       "      <td id=\"T_b902b_row8_col0\" class=\"data row8 col0\" >1.0000</td>\n",
       "      <td id=\"T_b902b_row8_col1\" class=\"data row8 col1\" >1.0000</td>\n",
       "      <td id=\"T_b902b_row8_col2\" class=\"data row8 col2\" >1.0000</td>\n",
       "      <td id=\"T_b902b_row8_col3\" class=\"data row8 col3\" >1.0000</td>\n",
       "      <td id=\"T_b902b_row8_col4\" class=\"data row8 col4\" >1.0000</td>\n",
       "      <td id=\"T_b902b_row8_col5\" class=\"data row8 col5\" >1.0000</td>\n",
       "      <td id=\"T_b902b_row8_col6\" class=\"data row8 col6\" >1.0000</td>\n",
       "    </tr>\n",
       "    <tr>\n",
       "      <th id=\"T_b902b_level0_row9\" class=\"row_heading level0 row9\" >9</th>\n",
       "      <td id=\"T_b902b_row9_col0\" class=\"data row9 col0\" >1.0000</td>\n",
       "      <td id=\"T_b902b_row9_col1\" class=\"data row9 col1\" >1.0000</td>\n",
       "      <td id=\"T_b902b_row9_col2\" class=\"data row9 col2\" >1.0000</td>\n",
       "      <td id=\"T_b902b_row9_col3\" class=\"data row9 col3\" >1.0000</td>\n",
       "      <td id=\"T_b902b_row9_col4\" class=\"data row9 col4\" >1.0000</td>\n",
       "      <td id=\"T_b902b_row9_col5\" class=\"data row9 col5\" >1.0000</td>\n",
       "      <td id=\"T_b902b_row9_col6\" class=\"data row9 col6\" >1.0000</td>\n",
       "    </tr>\n",
       "    <tr>\n",
       "      <th id=\"T_b902b_level0_row10\" class=\"row_heading level0 row10\" >Mean</th>\n",
       "      <td id=\"T_b902b_row10_col0\" class=\"data row10 col0\" >0.9718</td>\n",
       "      <td id=\"T_b902b_row10_col1\" class=\"data row10 col1\" >1.0000</td>\n",
       "      <td id=\"T_b902b_row10_col2\" class=\"data row10 col2\" >0.9718</td>\n",
       "      <td id=\"T_b902b_row10_col3\" class=\"data row10 col3\" >0.9780</td>\n",
       "      <td id=\"T_b902b_row10_col4\" class=\"data row10 col4\" >0.9712</td>\n",
       "      <td id=\"T_b902b_row10_col5\" class=\"data row10 col5\" >0.9573</td>\n",
       "      <td id=\"T_b902b_row10_col6\" class=\"data row10 col6\" >0.9609</td>\n",
       "    </tr>\n",
       "    <tr>\n",
       "      <th id=\"T_b902b_level0_row11\" class=\"row_heading level0 row11\" >Std</th>\n",
       "      <td id=\"T_b902b_row11_col0\" class=\"data row11 col0\" >0.0431</td>\n",
       "      <td id=\"T_b902b_row11_col1\" class=\"data row11 col1\" >0.0000</td>\n",
       "      <td id=\"T_b902b_row11_col2\" class=\"data row11 col2\" >0.0431</td>\n",
       "      <td id=\"T_b902b_row11_col3\" class=\"data row11 col3\" >0.0337</td>\n",
       "      <td id=\"T_b902b_row11_col4\" class=\"data row11 col4\" >0.0440</td>\n",
       "      <td id=\"T_b902b_row11_col5\" class=\"data row11 col5\" >0.0653</td>\n",
       "      <td id=\"T_b902b_row11_col6\" class=\"data row11 col6\" >0.0599</td>\n",
       "    </tr>\n",
       "  </tbody>\n",
       "</table>\n"
      ],
      "text/plain": [
       "<pandas.io.formats.style.Styler at 0x7f7837f6fcd0>"
      ]
     },
     "metadata": {},
     "output_type": "display_data"
    },
    {
     "data": {
      "application/vnd.jupyter.widget-view+json": {
       "model_id": "",
       "version_major": 2,
       "version_minor": 0
      },
      "text/plain": [
       "Processing:   0%|          | 0/4 [00:00<?, ?it/s]"
      ]
     },
     "metadata": {},
     "output_type": "display_data"
    },
    {
     "data": {
      "text/html": [],
      "text/plain": [
       "<IPython.core.display.HTML object>"
      ]
     },
     "metadata": {},
     "output_type": "display_data"
    },
    {
     "data": {
      "image/png": "[encoded data removed]",
      "text/plain": [
       "<Figure size 800x550 with 1 Axes>"
      ]
     },
     "metadata": {},
     "output_type": "display_data"
    }
   ],
   "source": [
    "lda=create_model('lda')\n",
    "\n",
    "with plt.xkcd():\n",
    "    plot_model(lda, plot='auc')"
   ]
  },
  {
   "cell_type": "code",
   "execution_count": 21,
   "metadata": {},
   "outputs": [],
   "source": [
    "from sklearn.model_selection import RandomizedSearchCV\n",
    "from sklearn.discriminant_analysis import LinearDiscriminantAnalysis\n",
    "\n",
    "params={'solver': ['svd', 'lsqr', 'eigen']}\n",
    "\n",
    "random = RandomizedSearchCV(estimator=LinearDiscriminantAnalysis(),\n",
    "                               param_distributions=params,\n",
    "                               n_iter=200,\n",
    "                               cv=3,\n",
    "                               verbose=10,\n",
    "                               n_jobs=-1,\n",
    "                               scoring='balanced_accuracy')"
   ]
  },
  {
   "cell_type": "code",
   "execution_count": 22,
   "metadata": {},
   "outputs": [
    {
     "name": "stdout",
     "output_type": "stream",
     "text": [
      "Fitting 3 folds for each of 3 candidates, totalling 9 fits\n"
     ]
    },
    {
     "data": {
      "text/plain": [
       "RandomizedSearchCV(cv=3, error_score=nan,\n",
       "                   estimator=LinearDiscriminantAnalysis(covariance_estimator=None,\n",
       "                                                        n_components=None,\n",
       "                                                        priors=None,\n",
       "                                                        shrinkage=None,\n",
       "                                                        solver='svd',\n",
       "                                                        store_covariance=False,\n",
       "                                                        tol=0.0001),\n",
       "                   n_iter=200, n_jobs=-1,\n",
       "                   param_distributions={'solver': ['svd', 'lsqr', 'eigen']},\n",
       "                   pre_dispatch='2*n_jobs', random_state=None, refit=True,\n",
       "                   return_train_score=False, scoring='balanced_accuracy',\n",
       "                   verbose=10)"
      ]
     },
     "execution_count": 22,
     "metadata": {},
     "output_type": "execute_result"
    }
   ],
   "source": [
    "random.fit(X_train, y_train)"
   ]
  },
  {
   "cell_type": "code",
   "execution_count": 23,
   "metadata": {},
   "outputs": [
    {
     "data": {
      "text/plain": [
       "LinearDiscriminantAnalysis(covariance_estimator=None, n_components=None,\n",
       "                           priors=None, shrinkage=None, solver='svd',\n",
       "                           store_covariance=False, tol=0.0001)"
      ]
     },
     "execution_count": 23,
     "metadata": {},
     "output_type": "execute_result"
    }
   ],
   "source": [
    "random.best_estimator_.fit(X_train, y_train)"
   ]
  },
  {
   "cell_type": "code",
   "execution_count": 24,
   "metadata": {},
   "outputs": [
    {
     "data": {
      "text/plain": [
       "0.9755799755799757"
      ]
     },
     "execution_count": 24,
     "metadata": {},
     "output_type": "execute_result"
    }
   ],
   "source": [
    "random.best_score_  # se mejora en 0.001 respecto al anterior"
   ]
  },
  {
   "cell_type": "code",
   "execution_count": 25,
   "metadata": {
    "scrolled": true
   },
   "outputs": [
    {
     "data": {
      "text/plain": [
       "{'solver': 'svd'}"
      ]
     },
     "execution_count": 25,
     "metadata": {},
     "output_type": "execute_result"
    }
   ],
   "source": [
    "random.best_params_"
   ]
  },
  {
   "cell_type": "code",
   "execution_count": 26,
   "metadata": {},
   "outputs": [],
   "source": [
    "# Ahora para los datos del primer dataframe"
   ]
  },
  {
   "cell_type": "code",
   "execution_count": 27,
   "metadata": {},
   "outputs": [],
   "source": [
    "data = fetch_california_housing()\n",
    "\n",
    "X = pd.DataFrame(data[\"data\"], columns=data[\"feature_names\"])\n",
    "y = pd.DataFrame(data[\"target\"], columns=['MEDV'])\n",
    "\n",
    "data = pd.concat([X, y], axis=1)"
   ]
  },
  {
   "cell_type": "code",
   "execution_count": 28,
   "metadata": {},
   "outputs": [],
   "source": [
    "valores = dict(data.MEDV.value_counts())\n",
    "\n",
    "valores_delete = [key for key, value in valores.items() if value == 1]\n",
    "\n",
    "data = data.loc[~data[\"MEDV\"].isin(valores_delete)]"
   ]
  },
  {
   "cell_type": "code",
   "execution_count": 29,
   "metadata": {},
   "outputs": [
    {
     "data": {
      "text/html": [
       "<style type=\"text/css\">\n",
       "#T_3b8ba_row8_col1 {\n",
       "  background-color: lightgreen;\n",
       "}\n",
       "</style>\n",
       "<table id=\"T_3b8ba\">\n",
       "  <thead>\n",
       "    <tr>\n",
       "      <th class=\"blank level0\" >&nbsp;</th>\n",
       "      <th id=\"T_3b8ba_level0_col0\" class=\"col_heading level0 col0\" >Description</th>\n",
       "      <th id=\"T_3b8ba_level0_col1\" class=\"col_heading level0 col1\" >Value</th>\n",
       "    </tr>\n",
       "  </thead>\n",
       "  <tbody>\n",
       "    <tr>\n",
       "      <th id=\"T_3b8ba_level0_row0\" class=\"row_heading level0 row0\" >0</th>\n",
       "      <td id=\"T_3b8ba_row0_col0\" class=\"data row0 col0\" >Session id</td>\n",
       "      <td id=\"T_3b8ba_row0_col1\" class=\"data row0 col1\" >1</td>\n",
       "    </tr>\n",
       "    <tr>\n",
       "      <th id=\"T_3b8ba_level0_row1\" class=\"row_heading level0 row1\" >1</th>\n",
       "      <td id=\"T_3b8ba_row1_col0\" class=\"data row1 col0\" >Target</td>\n",
       "      <td id=\"T_3b8ba_row1_col1\" class=\"data row1 col1\" >MEDV</td>\n",
       "    </tr>\n",
       "    <tr>\n",
       "      <th id=\"T_3b8ba_level0_row2\" class=\"row_heading level0 row2\" >2</th>\n",
       "      <td id=\"T_3b8ba_row2_col0\" class=\"data row2 col0\" >Target type</td>\n",
       "      <td id=\"T_3b8ba_row2_col1\" class=\"data row2 col1\" >Regression</td>\n",
       "    </tr>\n",
       "    <tr>\n",
       "      <th id=\"T_3b8ba_level0_row3\" class=\"row_heading level0 row3\" >3</th>\n",
       "      <td id=\"T_3b8ba_row3_col0\" class=\"data row3 col0\" >Original data shape</td>\n",
       "      <td id=\"T_3b8ba_row3_col1\" class=\"data row3 col1\" >(19914, 9)</td>\n",
       "    </tr>\n",
       "    <tr>\n",
       "      <th id=\"T_3b8ba_level0_row4\" class=\"row_heading level0 row4\" >4</th>\n",
       "      <td id=\"T_3b8ba_row4_col0\" class=\"data row4 col0\" >Transformed data shape</td>\n",
       "      <td id=\"T_3b8ba_row4_col1\" class=\"data row4 col1\" >(19914, 9)</td>\n",
       "    </tr>\n",
       "    <tr>\n",
       "      <th id=\"T_3b8ba_level0_row5\" class=\"row_heading level0 row5\" >5</th>\n",
       "      <td id=\"T_3b8ba_row5_col0\" class=\"data row5 col0\" >Transformed train set shape</td>\n",
       "      <td id=\"T_3b8ba_row5_col1\" class=\"data row5 col1\" >(13939, 9)</td>\n",
       "    </tr>\n",
       "    <tr>\n",
       "      <th id=\"T_3b8ba_level0_row6\" class=\"row_heading level0 row6\" >6</th>\n",
       "      <td id=\"T_3b8ba_row6_col0\" class=\"data row6 col0\" >Transformed test set shape</td>\n",
       "      <td id=\"T_3b8ba_row6_col1\" class=\"data row6 col1\" >(5975, 9)</td>\n",
       "    </tr>\n",
       "    <tr>\n",
       "      <th id=\"T_3b8ba_level0_row7\" class=\"row_heading level0 row7\" >7</th>\n",
       "      <td id=\"T_3b8ba_row7_col0\" class=\"data row7 col0\" >Numeric features</td>\n",
       "      <td id=\"T_3b8ba_row7_col1\" class=\"data row7 col1\" >8</td>\n",
       "    </tr>\n",
       "    <tr>\n",
       "      <th id=\"T_3b8ba_level0_row8\" class=\"row_heading level0 row8\" >8</th>\n",
       "      <td id=\"T_3b8ba_row8_col0\" class=\"data row8 col0\" >Preprocess</td>\n",
       "      <td id=\"T_3b8ba_row8_col1\" class=\"data row8 col1\" >True</td>\n",
       "    </tr>\n",
       "    <tr>\n",
       "      <th id=\"T_3b8ba_level0_row9\" class=\"row_heading level0 row9\" >9</th>\n",
       "      <td id=\"T_3b8ba_row9_col0\" class=\"data row9 col0\" >Imputation type</td>\n",
       "      <td id=\"T_3b8ba_row9_col1\" class=\"data row9 col1\" >simple</td>\n",
       "    </tr>\n",
       "    <tr>\n",
       "      <th id=\"T_3b8ba_level0_row10\" class=\"row_heading level0 row10\" >10</th>\n",
       "      <td id=\"T_3b8ba_row10_col0\" class=\"data row10 col0\" >Numeric imputation</td>\n",
       "      <td id=\"T_3b8ba_row10_col1\" class=\"data row10 col1\" >mean</td>\n",
       "    </tr>\n",
       "    <tr>\n",
       "      <th id=\"T_3b8ba_level0_row11\" class=\"row_heading level0 row11\" >11</th>\n",
       "      <td id=\"T_3b8ba_row11_col0\" class=\"data row11 col0\" >Categorical imputation</td>\n",
       "      <td id=\"T_3b8ba_row11_col1\" class=\"data row11 col1\" >mode</td>\n",
       "    </tr>\n",
       "    <tr>\n",
       "      <th id=\"T_3b8ba_level0_row12\" class=\"row_heading level0 row12\" >12</th>\n",
       "      <td id=\"T_3b8ba_row12_col0\" class=\"data row12 col0\" >Fold Generator</td>\n",
       "      <td id=\"T_3b8ba_row12_col1\" class=\"data row12 col1\" >KFold</td>\n",
       "    </tr>\n",
       "    <tr>\n",
       "      <th id=\"T_3b8ba_level0_row13\" class=\"row_heading level0 row13\" >13</th>\n",
       "      <td id=\"T_3b8ba_row13_col0\" class=\"data row13 col0\" >Fold Number</td>\n",
       "      <td id=\"T_3b8ba_row13_col1\" class=\"data row13 col1\" >10</td>\n",
       "    </tr>\n",
       "    <tr>\n",
       "      <th id=\"T_3b8ba_level0_row14\" class=\"row_heading level0 row14\" >14</th>\n",
       "      <td id=\"T_3b8ba_row14_col0\" class=\"data row14 col0\" >CPU Jobs</td>\n",
       "      <td id=\"T_3b8ba_row14_col1\" class=\"data row14 col1\" >-1</td>\n",
       "    </tr>\n",
       "    <tr>\n",
       "      <th id=\"T_3b8ba_level0_row15\" class=\"row_heading level0 row15\" >15</th>\n",
       "      <td id=\"T_3b8ba_row15_col0\" class=\"data row15 col0\" >Use GPU</td>\n",
       "      <td id=\"T_3b8ba_row15_col1\" class=\"data row15 col1\" >False</td>\n",
       "    </tr>\n",
       "    <tr>\n",
       "      <th id=\"T_3b8ba_level0_row16\" class=\"row_heading level0 row16\" >16</th>\n",
       "      <td id=\"T_3b8ba_row16_col0\" class=\"data row16 col0\" >Log Experiment</td>\n",
       "      <td id=\"T_3b8ba_row16_col1\" class=\"data row16 col1\" >False</td>\n",
       "    </tr>\n",
       "    <tr>\n",
       "      <th id=\"T_3b8ba_level0_row17\" class=\"row_heading level0 row17\" >17</th>\n",
       "      <td id=\"T_3b8ba_row17_col0\" class=\"data row17 col0\" >Experiment Name</td>\n",
       "      <td id=\"T_3b8ba_row17_col1\" class=\"data row17 col1\" >reg-default-name</td>\n",
       "    </tr>\n",
       "    <tr>\n",
       "      <th id=\"T_3b8ba_level0_row18\" class=\"row_heading level0 row18\" >18</th>\n",
       "      <td id=\"T_3b8ba_row18_col0\" class=\"data row18 col0\" >USI</td>\n",
       "      <td id=\"T_3b8ba_row18_col1\" class=\"data row18 col1\" >d29b</td>\n",
       "    </tr>\n",
       "  </tbody>\n",
       "</table>\n"
      ],
      "text/plain": [
       "<pandas.io.formats.style.Styler at 0x7f7839c551c0>"
      ]
     },
     "metadata": {},
     "output_type": "display_data"
    }
   ],
   "source": [
    "from pycaret.regression import *\n",
    "\n",
    "exp_clf101=setup(data=data, target='MEDV', session_id=1) "
   ]
  },
  {
   "cell_type": "code",
   "execution_count": 30,
   "metadata": {},
   "outputs": [
    {
     "data": {
      "text/html": [],
      "text/plain": [
       "<IPython.core.display.HTML object>"
      ]
     },
     "metadata": {},
     "output_type": "display_data"
    },
    {
     "data": {
      "text/html": [
       "<style type=\"text/css\">\n",
       "#T_9c7bc th {\n",
       "  text-align: left;\n",
       "}\n",
       "#T_9c7bc_row0_col0, #T_9c7bc_row1_col0, #T_9c7bc_row1_col1, #T_9c7bc_row1_col2, #T_9c7bc_row1_col3, #T_9c7bc_row1_col4, #T_9c7bc_row1_col5, #T_9c7bc_row1_col6, #T_9c7bc_row2_col0, #T_9c7bc_row2_col1, #T_9c7bc_row2_col2, #T_9c7bc_row2_col3, #T_9c7bc_row2_col4, #T_9c7bc_row2_col5, #T_9c7bc_row2_col6, #T_9c7bc_row3_col0, #T_9c7bc_row3_col1, #T_9c7bc_row3_col2, #T_9c7bc_row3_col3, #T_9c7bc_row3_col4, #T_9c7bc_row3_col5, #T_9c7bc_row3_col6, #T_9c7bc_row4_col0, #T_9c7bc_row4_col1, #T_9c7bc_row4_col2, #T_9c7bc_row4_col3, #T_9c7bc_row4_col4, #T_9c7bc_row4_col5, #T_9c7bc_row4_col6, #T_9c7bc_row5_col0, #T_9c7bc_row5_col1, #T_9c7bc_row5_col2, #T_9c7bc_row5_col3, #T_9c7bc_row5_col4, #T_9c7bc_row5_col5, #T_9c7bc_row5_col6, #T_9c7bc_row6_col0, #T_9c7bc_row6_col1, #T_9c7bc_row6_col2, #T_9c7bc_row6_col3, #T_9c7bc_row6_col4, #T_9c7bc_row6_col5, #T_9c7bc_row6_col6, #T_9c7bc_row7_col0, #T_9c7bc_row7_col1, #T_9c7bc_row7_col2, #T_9c7bc_row7_col3, #T_9c7bc_row7_col4, #T_9c7bc_row7_col5, #T_9c7bc_row7_col6, #T_9c7bc_row8_col0, #T_9c7bc_row8_col1, #T_9c7bc_row8_col2, #T_9c7bc_row8_col3, #T_9c7bc_row8_col4, #T_9c7bc_row8_col5, #T_9c7bc_row8_col6, #T_9c7bc_row9_col0, #T_9c7bc_row9_col1, #T_9c7bc_row9_col2, #T_9c7bc_row9_col3, #T_9c7bc_row9_col4, #T_9c7bc_row9_col5, #T_9c7bc_row9_col6, #T_9c7bc_row10_col0, #T_9c7bc_row10_col1, #T_9c7bc_row10_col2, #T_9c7bc_row10_col3, #T_9c7bc_row10_col4, #T_9c7bc_row10_col5, #T_9c7bc_row10_col6, #T_9c7bc_row11_col0, #T_9c7bc_row11_col1, #T_9c7bc_row11_col2, #T_9c7bc_row11_col3, #T_9c7bc_row11_col4, #T_9c7bc_row11_col5, #T_9c7bc_row11_col6, #T_9c7bc_row12_col0, #T_9c7bc_row12_col1, #T_9c7bc_row12_col2, #T_9c7bc_row12_col3, #T_9c7bc_row12_col4, #T_9c7bc_row12_col5, #T_9c7bc_row12_col6 {\n",
       "  text-align: left;\n",
       "}\n",
       "#T_9c7bc_row0_col1, #T_9c7bc_row0_col2, #T_9c7bc_row0_col3, #T_9c7bc_row0_col4, #T_9c7bc_row0_col5, #T_9c7bc_row0_col6 {\n",
       "  text-align: left;\n",
       "  background-color: yellow;\n",
       "}\n",
       "#T_9c7bc_row0_col7, #T_9c7bc_row1_col7, #T_9c7bc_row2_col7, #T_9c7bc_row4_col7, #T_9c7bc_row5_col7, #T_9c7bc_row6_col7, #T_9c7bc_row7_col7, #T_9c7bc_row9_col7, #T_9c7bc_row10_col7, #T_9c7bc_row11_col7, #T_9c7bc_row12_col7 {\n",
       "  text-align: left;\n",
       "  background-color: lightgrey;\n",
       "}\n",
       "#T_9c7bc_row3_col7, #T_9c7bc_row8_col7 {\n",
       "  text-align: left;\n",
       "  background-color: yellow;\n",
       "  background-color: lightgrey;\n",
       "}\n",
       "</style>\n",
       "<table id=\"T_9c7bc\">\n",
       "  <thead>\n",
       "    <tr>\n",
       "      <th class=\"blank level0\" >&nbsp;</th>\n",
       "      <th id=\"T_9c7bc_level0_col0\" class=\"col_heading level0 col0\" >Model</th>\n",
       "      <th id=\"T_9c7bc_level0_col1\" class=\"col_heading level0 col1\" >MAE</th>\n",
       "      <th id=\"T_9c7bc_level0_col2\" class=\"col_heading level0 col2\" >MSE</th>\n",
       "      <th id=\"T_9c7bc_level0_col3\" class=\"col_heading level0 col3\" >RMSE</th>\n",
       "      <th id=\"T_9c7bc_level0_col4\" class=\"col_heading level0 col4\" >R2</th>\n",
       "      <th id=\"T_9c7bc_level0_col5\" class=\"col_heading level0 col5\" >RMSLE</th>\n",
       "      <th id=\"T_9c7bc_level0_col6\" class=\"col_heading level0 col6\" >MAPE</th>\n",
       "      <th id=\"T_9c7bc_level0_col7\" class=\"col_heading level0 col7\" >TT (Sec)</th>\n",
       "    </tr>\n",
       "  </thead>\n",
       "  <tbody>\n",
       "    <tr>\n",
       "      <th id=\"T_9c7bc_level0_row0\" class=\"row_heading level0 row0\" >et</th>\n",
       "      <td id=\"T_9c7bc_row0_col0\" class=\"data row0 col0\" >Extra Trees Regressor</td>\n",
       "      <td id=\"T_9c7bc_row0_col1\" class=\"data row0 col1\" >0.3244</td>\n",
       "      <td id=\"T_9c7bc_row0_col2\" class=\"data row0 col2\" >0.2466</td>\n",
       "      <td id=\"T_9c7bc_row0_col3\" class=\"data row0 col3\" >0.4960</td>\n",
       "      <td id=\"T_9c7bc_row0_col4\" class=\"data row0 col4\" >0.8032</td>\n",
       "      <td id=\"T_9c7bc_row0_col5\" class=\"data row0 col5\" >0.1474</td>\n",
       "      <td id=\"T_9c7bc_row0_col6\" class=\"data row0 col6\" >0.1825</td>\n",
       "      <td id=\"T_9c7bc_row0_col7\" class=\"data row0 col7\" >0.4070</td>\n",
       "    </tr>\n",
       "    <tr>\n",
       "      <th id=\"T_9c7bc_level0_row1\" class=\"row_heading level0 row1\" >rf</th>\n",
       "      <td id=\"T_9c7bc_row1_col0\" class=\"data row1 col0\" >Random Forest Regressor</td>\n",
       "      <td id=\"T_9c7bc_row1_col1\" class=\"data row1 col1\" >0.3323</td>\n",
       "      <td id=\"T_9c7bc_row1_col2\" class=\"data row1 col2\" >0.2596</td>\n",
       "      <td id=\"T_9c7bc_row1_col3\" class=\"data row1 col3\" >0.5088</td>\n",
       "      <td id=\"T_9c7bc_row1_col4\" class=\"data row1 col4\" >0.7927</td>\n",
       "      <td id=\"T_9c7bc_row1_col5\" class=\"data row1 col5\" >0.1528</td>\n",
       "      <td id=\"T_9c7bc_row1_col6\" class=\"data row1 col6\" >0.1897</td>\n",
       "      <td id=\"T_9c7bc_row1_col7\" class=\"data row1 col7\" >0.1330</td>\n",
       "    </tr>\n",
       "    <tr>\n",
       "      <th id=\"T_9c7bc_level0_row2\" class=\"row_heading level0 row2\" >gbr</th>\n",
       "      <td id=\"T_9c7bc_row2_col0\" class=\"data row2 col0\" >Gradient Boosting Regressor</td>\n",
       "      <td id=\"T_9c7bc_row2_col1\" class=\"data row2 col1\" >0.3655</td>\n",
       "      <td id=\"T_9c7bc_row2_col2\" class=\"data row2 col2\" >0.2804</td>\n",
       "      <td id=\"T_9c7bc_row2_col3\" class=\"data row2 col3\" >0.5290</td>\n",
       "      <td id=\"T_9c7bc_row2_col4\" class=\"data row2 col4\" >0.7763</td>\n",
       "      <td id=\"T_9c7bc_row2_col5\" class=\"data row2 col5\" >0.1619</td>\n",
       "      <td id=\"T_9c7bc_row2_col6\" class=\"data row2 col6\" >0.2100</td>\n",
       "      <td id=\"T_9c7bc_row2_col7\" class=\"data row2 col7\" >0.0340</td>\n",
       "    </tr>\n",
       "    <tr>\n",
       "      <th id=\"T_9c7bc_level0_row3\" class=\"row_heading level0 row3\" >ridge</th>\n",
       "      <td id=\"T_9c7bc_row3_col0\" class=\"data row3 col0\" >Ridge Regression</td>\n",
       "      <td id=\"T_9c7bc_row3_col1\" class=\"data row3 col1\" >0.5187</td>\n",
       "      <td id=\"T_9c7bc_row3_col2\" class=\"data row3 col2\" >0.5154</td>\n",
       "      <td id=\"T_9c7bc_row3_col3\" class=\"data row3 col3\" >0.7174</td>\n",
       "      <td id=\"T_9c7bc_row3_col4\" class=\"data row3 col4\" >0.5891</td>\n",
       "      <td id=\"T_9c7bc_row3_col5\" class=\"data row3 col5\" >0.2212</td>\n",
       "      <td id=\"T_9c7bc_row3_col6\" class=\"data row3 col6\" >0.3100</td>\n",
       "      <td id=\"T_9c7bc_row3_col7\" class=\"data row3 col7\" >0.0170</td>\n",
       "    </tr>\n",
       "    <tr>\n",
       "      <th id=\"T_9c7bc_level0_row4\" class=\"row_heading level0 row4\" >lar</th>\n",
       "      <td id=\"T_9c7bc_row4_col0\" class=\"data row4 col0\" >Least Angle Regression</td>\n",
       "      <td id=\"T_9c7bc_row4_col1\" class=\"data row4 col1\" >0.5187</td>\n",
       "      <td id=\"T_9c7bc_row4_col2\" class=\"data row4 col2\" >0.5154</td>\n",
       "      <td id=\"T_9c7bc_row4_col3\" class=\"data row4 col3\" >0.7174</td>\n",
       "      <td id=\"T_9c7bc_row4_col4\" class=\"data row4 col4\" >0.5891</td>\n",
       "      <td id=\"T_9c7bc_row4_col5\" class=\"data row4 col5\" >0.2212</td>\n",
       "      <td id=\"T_9c7bc_row4_col6\" class=\"data row4 col6\" >0.3100</td>\n",
       "      <td id=\"T_9c7bc_row4_col7\" class=\"data row4 col7\" >0.0190</td>\n",
       "    </tr>\n",
       "    <tr>\n",
       "      <th id=\"T_9c7bc_level0_row5\" class=\"row_heading level0 row5\" >br</th>\n",
       "      <td id=\"T_9c7bc_row5_col0\" class=\"data row5 col0\" >Bayesian Ridge</td>\n",
       "      <td id=\"T_9c7bc_row5_col1\" class=\"data row5 col1\" >0.5187</td>\n",
       "      <td id=\"T_9c7bc_row5_col2\" class=\"data row5 col2\" >0.5153</td>\n",
       "      <td id=\"T_9c7bc_row5_col3\" class=\"data row5 col3\" >0.7174</td>\n",
       "      <td id=\"T_9c7bc_row5_col4\" class=\"data row5 col4\" >0.5891</td>\n",
       "      <td id=\"T_9c7bc_row5_col5\" class=\"data row5 col5\" >0.2212</td>\n",
       "      <td id=\"T_9c7bc_row5_col6\" class=\"data row5 col6\" >0.3100</td>\n",
       "      <td id=\"T_9c7bc_row5_col7\" class=\"data row5 col7\" >0.0190</td>\n",
       "    </tr>\n",
       "    <tr>\n",
       "      <th id=\"T_9c7bc_level0_row6\" class=\"row_heading level0 row6\" >omp</th>\n",
       "      <td id=\"T_9c7bc_row6_col0\" class=\"data row6 col0\" >Orthogonal Matching Pursuit</td>\n",
       "      <td id=\"T_9c7bc_row6_col1\" class=\"data row6 col1\" >0.6106</td>\n",
       "      <td id=\"T_9c7bc_row6_col2\" class=\"data row6 col2\" >0.6778</td>\n",
       "      <td id=\"T_9c7bc_row6_col3\" class=\"data row6 col3\" >0.8228</td>\n",
       "      <td id=\"T_9c7bc_row6_col4\" class=\"data row6 col4\" >0.4598</td>\n",
       "      <td id=\"T_9c7bc_row6_col5\" class=\"data row6 col5\" >0.2575</td>\n",
       "      <td id=\"T_9c7bc_row6_col6\" class=\"data row6 col6\" >0.3793</td>\n",
       "      <td id=\"T_9c7bc_row6_col7\" class=\"data row6 col7\" >0.0220</td>\n",
       "    </tr>\n",
       "    <tr>\n",
       "      <th id=\"T_9c7bc_level0_row7\" class=\"row_heading level0 row7\" >ada</th>\n",
       "      <td id=\"T_9c7bc_row7_col0\" class=\"data row7 col0\" >AdaBoost Regressor</td>\n",
       "      <td id=\"T_9c7bc_row7_col1\" class=\"data row7 col1\" >0.7311</td>\n",
       "      <td id=\"T_9c7bc_row7_col2\" class=\"data row7 col2\" >0.7376</td>\n",
       "      <td id=\"T_9c7bc_row7_col3\" class=\"data row7 col3\" >0.8571</td>\n",
       "      <td id=\"T_9c7bc_row7_col4\" class=\"data row7 col4\" >0.4119</td>\n",
       "      <td id=\"T_9c7bc_row7_col5\" class=\"data row7 col5\" >0.2946</td>\n",
       "      <td id=\"T_9c7bc_row7_col6\" class=\"data row7 col6\" >0.5507</td>\n",
       "      <td id=\"T_9c7bc_row7_col7\" class=\"data row7 col7\" >0.0240</td>\n",
       "    </tr>\n",
       "    <tr>\n",
       "      <th id=\"T_9c7bc_level0_row8\" class=\"row_heading level0 row8\" >en</th>\n",
       "      <td id=\"T_9c7bc_row8_col0\" class=\"data row8 col0\" >Elastic Net</td>\n",
       "      <td id=\"T_9c7bc_row8_col1\" class=\"data row8 col1\" >0.6644</td>\n",
       "      <td id=\"T_9c7bc_row8_col2\" class=\"data row8 col2\" >0.7519</td>\n",
       "      <td id=\"T_9c7bc_row8_col3\" class=\"data row8 col3\" >0.8666</td>\n",
       "      <td id=\"T_9c7bc_row8_col4\" class=\"data row8 col4\" >0.4010</td>\n",
       "      <td id=\"T_9c7bc_row8_col5\" class=\"data row8 col5\" >0.2751</td>\n",
       "      <td id=\"T_9c7bc_row8_col6\" class=\"data row8 col6\" >0.4441</td>\n",
       "      <td id=\"T_9c7bc_row8_col7\" class=\"data row8 col7\" >0.0170</td>\n",
       "    </tr>\n",
       "    <tr>\n",
       "      <th id=\"T_9c7bc_level0_row9\" class=\"row_heading level0 row9\" >lasso</th>\n",
       "      <td id=\"T_9c7bc_row9_col0\" class=\"data row9 col0\" >Lasso Regression</td>\n",
       "      <td id=\"T_9c7bc_row9_col1\" class=\"data row9 col1\" >0.7554</td>\n",
       "      <td id=\"T_9c7bc_row9_col2\" class=\"data row9 col2\" >0.9446</td>\n",
       "      <td id=\"T_9c7bc_row9_col3\" class=\"data row9 col3\" >0.9716</td>\n",
       "      <td id=\"T_9c7bc_row9_col4\" class=\"data row9 col4\" >0.2472</td>\n",
       "      <td id=\"T_9c7bc_row9_col5\" class=\"data row9 col5\" >0.3070</td>\n",
       "      <td id=\"T_9c7bc_row9_col6\" class=\"data row9 col6\" >0.5121</td>\n",
       "      <td id=\"T_9c7bc_row9_col7\" class=\"data row9 col7\" >0.0190</td>\n",
       "    </tr>\n",
       "    <tr>\n",
       "      <th id=\"T_9c7bc_level0_row10\" class=\"row_heading level0 row10\" >knn</th>\n",
       "      <td id=\"T_9c7bc_row10_col0\" class=\"data row10 col0\" >K Neighbors Regressor</td>\n",
       "      <td id=\"T_9c7bc_row10_col1\" class=\"data row10 col1\" >0.8131</td>\n",
       "      <td id=\"T_9c7bc_row10_col2\" class=\"data row10 col2\" >1.1264</td>\n",
       "      <td id=\"T_9c7bc_row10_col3\" class=\"data row10 col3\" >1.0611</td>\n",
       "      <td id=\"T_9c7bc_row10_col4\" class=\"data row10 col4\" >0.1016</td>\n",
       "      <td id=\"T_9c7bc_row10_col5\" class=\"data row10 col5\" >0.3339</td>\n",
       "      <td id=\"T_9c7bc_row10_col6\" class=\"data row10 col6\" >0.5240</td>\n",
       "      <td id=\"T_9c7bc_row10_col7\" class=\"data row10 col7\" >0.0220</td>\n",
       "    </tr>\n",
       "    <tr>\n",
       "      <th id=\"T_9c7bc_level0_row11\" class=\"row_heading level0 row11\" >llar</th>\n",
       "      <td id=\"T_9c7bc_row11_col0\" class=\"data row11 col0\" >Lasso Least Angle Regression</td>\n",
       "      <td id=\"T_9c7bc_row11_col1\" class=\"data row11 col1\" >0.8726</td>\n",
       "      <td id=\"T_9c7bc_row11_col2\" class=\"data row11 col2\" >1.2550</td>\n",
       "      <td id=\"T_9c7bc_row11_col3\" class=\"data row11 col3\" >1.1200</td>\n",
       "      <td id=\"T_9c7bc_row11_col4\" class=\"data row11 col4\" >-0.0006</td>\n",
       "      <td id=\"T_9c7bc_row11_col5\" class=\"data row11 col5\" >0.3526</td>\n",
       "      <td id=\"T_9c7bc_row11_col6\" class=\"data row11 col6\" >0.5943</td>\n",
       "      <td id=\"T_9c7bc_row11_col7\" class=\"data row11 col7\" >0.0210</td>\n",
       "    </tr>\n",
       "    <tr>\n",
       "      <th id=\"T_9c7bc_level0_row12\" class=\"row_heading level0 row12\" >dummy</th>\n",
       "      <td id=\"T_9c7bc_row12_col0\" class=\"data row12 col0\" >Dummy Regressor</td>\n",
       "      <td id=\"T_9c7bc_row12_col1\" class=\"data row12 col1\" >0.8726</td>\n",
       "      <td id=\"T_9c7bc_row12_col2\" class=\"data row12 col2\" >1.2550</td>\n",
       "      <td id=\"T_9c7bc_row12_col3\" class=\"data row12 col3\" >1.1200</td>\n",
       "      <td id=\"T_9c7bc_row12_col4\" class=\"data row12 col4\" >-0.0006</td>\n",
       "      <td id=\"T_9c7bc_row12_col5\" class=\"data row12 col5\" >0.3526</td>\n",
       "      <td id=\"T_9c7bc_row12_col6\" class=\"data row12 col6\" >0.5943</td>\n",
       "      <td id=\"T_9c7bc_row12_col7\" class=\"data row12 col7\" >0.0210</td>\n",
       "    </tr>\n",
       "  </tbody>\n",
       "</table>\n"
      ],
      "text/plain": [
       "<pandas.io.formats.style.Styler at 0x7f7837f6fb50>"
      ]
     },
     "metadata": {},
     "output_type": "display_data"
    },
    {
     "data": {
      "application/vnd.jupyter.widget-view+json": {
       "model_id": "",
       "version_major": 2,
       "version_minor": 0
      },
      "text/plain": [
       "Processing:   0%|          | 0/57 [00:00<?, ?it/s]"
      ]
     },
     "metadata": {},
     "output_type": "display_data"
    },
    {
     "data": {
      "text/plain": [
       "ExtraTreesRegressor(bootstrap=False, ccp_alpha=0.0, criterion='squared_error',\n",
       "                    max_depth=None, max_features='auto', max_leaf_nodes=None,\n",
       "                    max_samples=None, min_impurity_decrease=0.0,\n",
       "                    min_samples_leaf=1, min_samples_split=2,\n",
       "                    min_weight_fraction_leaf=0.0, n_estimators=100, n_jobs=-1,\n",
       "                    oob_score=False, random_state=1, verbose=0,\n",
       "                    warm_start=False)"
      ]
     },
     "execution_count": 30,
     "metadata": {},
     "output_type": "execute_result"
    }
   ],
   "source": [
    "compare_models(include=['et', 'rf', 'gbr', 'ridge', 'lar', 'br', 'omp', 'ada', 'en', 'lasso', 'knn', 'llar', 'dummy'])"
   ]
  },
  {
   "cell_type": "code",
   "execution_count": 31,
   "metadata": {},
   "outputs": [
    {
     "data": {
      "text/html": [],
      "text/plain": [
       "<IPython.core.display.HTML object>"
      ]
     },
     "metadata": {},
     "output_type": "display_data"
    },
    {
     "data": {
      "text/html": [
       "<style type=\"text/css\">\n",
       "#T_ac05f_row10_col0, #T_ac05f_row10_col1, #T_ac05f_row10_col2, #T_ac05f_row10_col3, #T_ac05f_row10_col4, #T_ac05f_row10_col5 {\n",
       "  background: yellow;\n",
       "}\n",
       "</style>\n",
       "<table id=\"T_ac05f\">\n",
       "  <thead>\n",
       "    <tr>\n",
       "      <th class=\"blank level0\" >&nbsp;</th>\n",
       "      <th id=\"T_ac05f_level0_col0\" class=\"col_heading level0 col0\" >MAE</th>\n",
       "      <th id=\"T_ac05f_level0_col1\" class=\"col_heading level0 col1\" >MSE</th>\n",
       "      <th id=\"T_ac05f_level0_col2\" class=\"col_heading level0 col2\" >RMSE</th>\n",
       "      <th id=\"T_ac05f_level0_col3\" class=\"col_heading level0 col3\" >R2</th>\n",
       "      <th id=\"T_ac05f_level0_col4\" class=\"col_heading level0 col4\" >RMSLE</th>\n",
       "      <th id=\"T_ac05f_level0_col5\" class=\"col_heading level0 col5\" >MAPE</th>\n",
       "    </tr>\n",
       "    <tr>\n",
       "      <th class=\"index_name level0\" >Fold</th>\n",
       "      <th class=\"blank col0\" >&nbsp;</th>\n",
       "      <th class=\"blank col1\" >&nbsp;</th>\n",
       "      <th class=\"blank col2\" >&nbsp;</th>\n",
       "      <th class=\"blank col3\" >&nbsp;</th>\n",
       "      <th class=\"blank col4\" >&nbsp;</th>\n",
       "      <th class=\"blank col5\" >&nbsp;</th>\n",
       "    </tr>\n",
       "  </thead>\n",
       "  <tbody>\n",
       "    <tr>\n",
       "      <th id=\"T_ac05f_level0_row0\" class=\"row_heading level0 row0\" >0</th>\n",
       "      <td id=\"T_ac05f_row0_col0\" class=\"data row0 col0\" >0.3159</td>\n",
       "      <td id=\"T_ac05f_row0_col1\" class=\"data row0 col1\" >0.2358</td>\n",
       "      <td id=\"T_ac05f_row0_col2\" class=\"data row0 col2\" >0.4856</td>\n",
       "      <td id=\"T_ac05f_row0_col3\" class=\"data row0 col3\" >0.8107</td>\n",
       "      <td id=\"T_ac05f_row0_col4\" class=\"data row0 col4\" >0.1447</td>\n",
       "      <td id=\"T_ac05f_row0_col5\" class=\"data row0 col5\" >0.1775</td>\n",
       "    </tr>\n",
       "    <tr>\n",
       "      <th id=\"T_ac05f_level0_row1\" class=\"row_heading level0 row1\" >1</th>\n",
       "      <td id=\"T_ac05f_row1_col0\" class=\"data row1 col0\" >0.3261</td>\n",
       "      <td id=\"T_ac05f_row1_col1\" class=\"data row1 col1\" >0.2635</td>\n",
       "      <td id=\"T_ac05f_row1_col2\" class=\"data row1 col2\" >0.5133</td>\n",
       "      <td id=\"T_ac05f_row1_col3\" class=\"data row1 col3\" >0.7912</td>\n",
       "      <td id=\"T_ac05f_row1_col4\" class=\"data row1 col4\" >0.1512</td>\n",
       "      <td id=\"T_ac05f_row1_col5\" class=\"data row1 col5\" >0.1836</td>\n",
       "    </tr>\n",
       "    <tr>\n",
       "      <th id=\"T_ac05f_level0_row2\" class=\"row_heading level0 row2\" >2</th>\n",
       "      <td id=\"T_ac05f_row2_col0\" class=\"data row2 col0\" >0.3334</td>\n",
       "      <td id=\"T_ac05f_row2_col1\" class=\"data row2 col1\" >0.2574</td>\n",
       "      <td id=\"T_ac05f_row2_col2\" class=\"data row2 col2\" >0.5073</td>\n",
       "      <td id=\"T_ac05f_row2_col3\" class=\"data row2 col3\" >0.7946</td>\n",
       "      <td id=\"T_ac05f_row2_col4\" class=\"data row2 col4\" >0.1525</td>\n",
       "      <td id=\"T_ac05f_row2_col5\" class=\"data row2 col5\" >0.1859</td>\n",
       "    </tr>\n",
       "    <tr>\n",
       "      <th id=\"T_ac05f_level0_row3\" class=\"row_heading level0 row3\" >3</th>\n",
       "      <td id=\"T_ac05f_row3_col0\" class=\"data row3 col0\" >0.3257</td>\n",
       "      <td id=\"T_ac05f_row3_col1\" class=\"data row3 col1\" >0.2517</td>\n",
       "      <td id=\"T_ac05f_row3_col2\" class=\"data row3 col2\" >0.5017</td>\n",
       "      <td id=\"T_ac05f_row3_col3\" class=\"data row3 col3\" >0.7902</td>\n",
       "      <td id=\"T_ac05f_row3_col4\" class=\"data row3 col4\" >0.1538</td>\n",
       "      <td id=\"T_ac05f_row3_col5\" class=\"data row3 col5\" >0.1922</td>\n",
       "    </tr>\n",
       "    <tr>\n",
       "      <th id=\"T_ac05f_level0_row4\" class=\"row_heading level0 row4\" >4</th>\n",
       "      <td id=\"T_ac05f_row4_col0\" class=\"data row4 col0\" >0.3452</td>\n",
       "      <td id=\"T_ac05f_row4_col1\" class=\"data row4 col1\" >0.2899</td>\n",
       "      <td id=\"T_ac05f_row4_col2\" class=\"data row4 col2\" >0.5384</td>\n",
       "      <td id=\"T_ac05f_row4_col3\" class=\"data row4 col3\" >0.7887</td>\n",
       "      <td id=\"T_ac05f_row4_col4\" class=\"data row4 col4\" >0.1516</td>\n",
       "      <td id=\"T_ac05f_row4_col5\" class=\"data row4 col5\" >0.1831</td>\n",
       "    </tr>\n",
       "    <tr>\n",
       "      <th id=\"T_ac05f_level0_row5\" class=\"row_heading level0 row5\" >5</th>\n",
       "      <td id=\"T_ac05f_row5_col0\" class=\"data row5 col0\" >0.3191</td>\n",
       "      <td id=\"T_ac05f_row5_col1\" class=\"data row5 col1\" >0.2338</td>\n",
       "      <td id=\"T_ac05f_row5_col2\" class=\"data row5 col2\" >0.4835</td>\n",
       "      <td id=\"T_ac05f_row5_col3\" class=\"data row5 col3\" >0.8086</td>\n",
       "      <td id=\"T_ac05f_row5_col4\" class=\"data row5 col4\" >0.1435</td>\n",
       "      <td id=\"T_ac05f_row5_col5\" class=\"data row5 col5\" >0.1771</td>\n",
       "    </tr>\n",
       "    <tr>\n",
       "      <th id=\"T_ac05f_level0_row6\" class=\"row_heading level0 row6\" >6</th>\n",
       "      <td id=\"T_ac05f_row6_col0\" class=\"data row6 col0\" >0.3121</td>\n",
       "      <td id=\"T_ac05f_row6_col1\" class=\"data row6 col1\" >0.2122</td>\n",
       "      <td id=\"T_ac05f_row6_col2\" class=\"data row6 col2\" >0.4606</td>\n",
       "      <td id=\"T_ac05f_row6_col3\" class=\"data row6 col3\" >0.8316</td>\n",
       "      <td id=\"T_ac05f_row6_col4\" class=\"data row6 col4\" >0.1382</td>\n",
       "      <td id=\"T_ac05f_row6_col5\" class=\"data row6 col5\" >0.1760</td>\n",
       "    </tr>\n",
       "    <tr>\n",
       "      <th id=\"T_ac05f_level0_row7\" class=\"row_heading level0 row7\" >7</th>\n",
       "      <td id=\"T_ac05f_row7_col0\" class=\"data row7 col0\" >0.3096</td>\n",
       "      <td id=\"T_ac05f_row7_col1\" class=\"data row7 col1\" >0.2085</td>\n",
       "      <td id=\"T_ac05f_row7_col2\" class=\"data row7 col2\" >0.4566</td>\n",
       "      <td id=\"T_ac05f_row7_col3\" class=\"data row7 col3\" >0.8409</td>\n",
       "      <td id=\"T_ac05f_row7_col4\" class=\"data row7 col4\" >0.1380</td>\n",
       "      <td id=\"T_ac05f_row7_col5\" class=\"data row7 col5\" >0.1864</td>\n",
       "    </tr>\n",
       "    <tr>\n",
       "      <th id=\"T_ac05f_level0_row8\" class=\"row_heading level0 row8\" >8</th>\n",
       "      <td id=\"T_ac05f_row8_col0\" class=\"data row8 col0\" >0.3261</td>\n",
       "      <td id=\"T_ac05f_row8_col1\" class=\"data row8 col1\" >0.2519</td>\n",
       "      <td id=\"T_ac05f_row8_col2\" class=\"data row8 col2\" >0.5019</td>\n",
       "      <td id=\"T_ac05f_row8_col3\" class=\"data row8 col3\" >0.7844</td>\n",
       "      <td id=\"T_ac05f_row8_col4\" class=\"data row8 col4\" >0.1501</td>\n",
       "      <td id=\"T_ac05f_row8_col5\" class=\"data row8 col5\" >0.1830</td>\n",
       "    </tr>\n",
       "    <tr>\n",
       "      <th id=\"T_ac05f_level0_row9\" class=\"row_heading level0 row9\" >9</th>\n",
       "      <td id=\"T_ac05f_row9_col0\" class=\"data row9 col0\" >0.3305</td>\n",
       "      <td id=\"T_ac05f_row9_col1\" class=\"data row9 col1\" >0.2613</td>\n",
       "      <td id=\"T_ac05f_row9_col2\" class=\"data row9 col2\" >0.5112</td>\n",
       "      <td id=\"T_ac05f_row9_col3\" class=\"data row9 col3\" >0.7910</td>\n",
       "      <td id=\"T_ac05f_row9_col4\" class=\"data row9 col4\" >0.1503</td>\n",
       "      <td id=\"T_ac05f_row9_col5\" class=\"data row9 col5\" >0.1803</td>\n",
       "    </tr>\n",
       "    <tr>\n",
       "      <th id=\"T_ac05f_level0_row10\" class=\"row_heading level0 row10\" >Mean</th>\n",
       "      <td id=\"T_ac05f_row10_col0\" class=\"data row10 col0\" >0.3244</td>\n",
       "      <td id=\"T_ac05f_row10_col1\" class=\"data row10 col1\" >0.2466</td>\n",
       "      <td id=\"T_ac05f_row10_col2\" class=\"data row10 col2\" >0.4960</td>\n",
       "      <td id=\"T_ac05f_row10_col3\" class=\"data row10 col3\" >0.8032</td>\n",
       "      <td id=\"T_ac05f_row10_col4\" class=\"data row10 col4\" >0.1474</td>\n",
       "      <td id=\"T_ac05f_row10_col5\" class=\"data row10 col5\" >0.1825</td>\n",
       "    </tr>\n",
       "    <tr>\n",
       "      <th id=\"T_ac05f_level0_row11\" class=\"row_heading level0 row11\" >Std</th>\n",
       "      <td id=\"T_ac05f_row11_col0\" class=\"data row11 col0\" >0.0101</td>\n",
       "      <td id=\"T_ac05f_row11_col1\" class=\"data row11 col1\" >0.0234</td>\n",
       "      <td id=\"T_ac05f_row11_col2\" class=\"data row11 col2\" >0.0236</td>\n",
       "      <td id=\"T_ac05f_row11_col3\" class=\"data row11 col3\" >0.0185</td>\n",
       "      <td id=\"T_ac05f_row11_col4\" class=\"data row11 col4\" >0.0056</td>\n",
       "      <td id=\"T_ac05f_row11_col5\" class=\"data row11 col5\" >0.0047</td>\n",
       "    </tr>\n",
       "  </tbody>\n",
       "</table>\n"
      ],
      "text/plain": [
       "<pandas.io.formats.style.Styler at 0x7f7838146a30>"
      ]
     },
     "metadata": {},
     "output_type": "display_data"
    },
    {
     "data": {
      "application/vnd.jupyter.widget-view+json": {
       "model_id": "",
       "version_major": 2,
       "version_minor": 0
      },
      "text/plain": [
       "Processing:   0%|          | 0/4 [00:00<?, ?it/s]"
      ]
     },
     "metadata": {},
     "output_type": "display_data"
    }
   ],
   "source": [
    "et=create_model('et')"
   ]
  },
  {
   "cell_type": "code",
   "execution_count": 32,
   "metadata": {},
   "outputs": [],
   "source": [
    "from sklearn.model_selection import RandomizedSearchCV\n",
    "from sklearn.ensemble import ExtraTreesRegressor\n",
    "import numpy as np\n",
    "\n",
    "n_estimators=[int(x) for x in np.linspace(200, 2000, 10)]\n",
    "\n",
    "max_features=['sqrt']\n",
    "\n",
    "min_samples_split=[2, 5, 10]\n",
    "\n",
    "bootstrap=[True, False]\n",
    "\n",
    "params={'n_estimators': n_estimators,\n",
    "        'max_features': max_features,\n",
    "        'min_samples_split':min_samples_split,\n",
    "        'bootstrap': bootstrap}\n",
    "\n",
    "random = RandomizedSearchCV(estimator=ExtraTreesRegressor(),\n",
    "                               param_distributions=params,\n",
    "                               n_iter=200,\n",
    "                               cv=3,\n",
    "                               verbose=10,\n",
    "                               n_jobs=-1,\n",
    "                               scoring = 'r2')"
   ]
  },
  {
   "cell_type": "code",
   "execution_count": 33,
   "metadata": {},
   "outputs": [
    {
     "name": "stdout",
     "output_type": "stream",
     "text": [
      "Fitting 3 folds for each of 60 candidates, totalling 180 fits\n"
     ]
    },
    {
     "data": {
      "text/plain": [
       "RandomizedSearchCV(cv=3, error_score=nan,\n",
       "                   estimator=ExtraTreesRegressor(bootstrap=False, ccp_alpha=0.0,\n",
       "                                                 criterion='squared_error',\n",
       "                                                 max_depth=None,\n",
       "                                                 max_features='auto',\n",
       "                                                 max_leaf_nodes=None,\n",
       "                                                 max_samples=None,\n",
       "                                                 min_impurity_decrease=0.0,\n",
       "                                                 min_samples_leaf=1,\n",
       "                                                 min_samples_split=2,\n",
       "                                                 min_weight_fraction_leaf=0.0,\n",
       "                                                 n_estimators=100, n_jobs=None,\n",
       "                                                 oob_score=False,\n",
       "                                                 random_state=None, verbose=0,\n",
       "                                                 warm_start=False),\n",
       "                   n_iter=200, n_jobs=-1,\n",
       "                   param_distributions={'bootstrap': [True, False],\n",
       "                                        'max_features': ['sqrt'],\n",
       "                                        'min_samples_split': [2, 5, 10],\n",
       "                                        'n_estimators': [200, 400, 600, 800,\n",
       "                                                         1000, 1200, 1400, 1600,\n",
       "                                                         1800, 2000]},\n",
       "                   pre_dispatch='2*n_jobs', random_state=None, refit=True,\n",
       "                   return_train_score=False, scoring='r2', verbose=10)"
      ]
     },
     "execution_count": 33,
     "metadata": {},
     "output_type": "execute_result"
    }
   ],
   "source": [
    "random.fit(X_train, y_train)"
   ]
  },
  {
   "cell_type": "code",
   "execution_count": 34,
   "metadata": {},
   "outputs": [
    {
     "data": {
      "text/plain": [
       "ExtraTreesRegressor(bootstrap=True, ccp_alpha=0.0, criterion='squared_error',\n",
       "                    max_depth=None, max_features='sqrt', max_leaf_nodes=None,\n",
       "                    max_samples=None, min_impurity_decrease=0.0,\n",
       "                    min_samples_leaf=1, min_samples_split=2,\n",
       "                    min_weight_fraction_leaf=0.0, n_estimators=600, n_jobs=None,\n",
       "                    oob_score=False, random_state=None, verbose=0,\n",
       "                    warm_start=False)"
      ]
     },
     "execution_count": 34,
     "metadata": {},
     "output_type": "execute_result"
    }
   ],
   "source": [
    "random.best_estimator_.fit(X_train, y_train)"
   ]
  },
  {
   "cell_type": "code",
   "execution_count": 35,
   "metadata": {},
   "outputs": [
    {
     "data": {
      "text/plain": [
       "0.9485064309431787"
      ]
     },
     "execution_count": 35,
     "metadata": {},
     "output_type": "execute_result"
    }
   ],
   "source": [
    "random.best_score_ # subo el r2 en más de 0.3"
   ]
  },
  {
   "cell_type": "code",
   "execution_count": 36,
   "metadata": {
    "scrolled": true
   },
   "outputs": [
    {
     "data": {
      "text/plain": [
       "{'n_estimators': 600,\n",
       " 'min_samples_split': 2,\n",
       " 'max_features': 'sqrt',\n",
       " 'bootstrap': True}"
      ]
     },
     "execution_count": 36,
     "metadata": {},
     "output_type": "execute_result"
    }
   ],
   "source": [
    "random.best_params_"
   ]
  }
 ],
 "metadata": {
  "kernelspec": {
   "display_name": "Python 3 (ipykernel)",
   "language": "python",
   "name": "python3"
  },
  "language_info": {
   "codemirror_mode": {
    "name": "ipython",
    "version": 3
   },
   "file_extension": ".py",
   "mimetype": "text/x-python",
   "name": "python",
   "nbconvert_exporter": "python",
   "pygments_lexer": "ipython3",
   "version": "3.9.13"
  }
 },
 "nbformat": 4,
 "nbformat_minor": 2
}
