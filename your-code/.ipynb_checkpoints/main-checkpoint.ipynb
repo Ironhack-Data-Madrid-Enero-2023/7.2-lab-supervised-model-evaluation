{
 "cells": [
  {
   "cell_type": "markdown",
   "metadata": {},
   "source": [
    "# Supervised Learning Model Evaluation Lab\n",
    "\n",
    "Complete the exercises below to solidify your knowledge and understanding of supervised learning model evaluation."
   ]
  },
  {
   "cell_type": "code",
   "execution_count": 1,
   "metadata": {},
   "outputs": [],
   "source": [
    "import pandas as pd\n",
    "\n",
    "from sklearn.model_selection import train_test_split as tts\n",
    "\n",
    "import warnings\n",
    "\n",
    "warnings.filterwarnings('ignore')\n"
   ]
  },
  {
   "cell_type": "markdown",
   "metadata": {},
   "source": [
    "## Regression Model Evaluation"
   ]
  },
  {
   "cell_type": "code",
   "execution_count": 2,
   "metadata": {},
   "outputs": [],
   "source": [
    "from sklearn.datasets import  fetch_california_housing\n",
    "\n",
    "data1 = fetch_california_housing()\n",
    "\n",
    "X1 = pd.DataFrame(data1[\"data\"], columns=data1[\"feature_names\"])\n",
    "y1 = pd.DataFrame(data1[\"target\"], columns=['MEDV'])\n",
    "\n",
    "data1 = pd.concat([X1, y1], axis=1)"
   ]
  },
  {
   "cell_type": "markdown",
   "metadata": {},
   "source": [
    "## 1. Split this data set into training (80%) and testing (20%) sets.\n",
    "\n",
    "The `MEDV` field represents the median value of owner-occupied homes (in $1000's) and is the target variable that we will want to predict."
   ]
  },
  {
   "cell_type": "code",
   "execution_count": 3,
   "metadata": {},
   "outputs": [],
   "source": [
    "X1_train, X1_test, y1_train, y1_test = tts(X1, y1, train_size=0.8, test_size=0.2, random_state=42)"
   ]
  },
  {
   "cell_type": "markdown",
   "metadata": {},
   "source": [
    "## 2. Train a `LinearRegression` model on this data set and generate predictions on both the training and the testing set."
   ]
  },
  {
   "cell_type": "code",
   "execution_count": 4,
   "metadata": {},
   "outputs": [
    {
     "data": {
      "text/html": [
       "<div>\n",
       "<style scoped>\n",
       "    .dataframe tbody tr th:only-of-type {\n",
       "        vertical-align: middle;\n",
       "    }\n",
       "\n",
       "    .dataframe tbody tr th {\n",
       "        vertical-align: top;\n",
       "    }\n",
       "\n",
       "    .dataframe thead th {\n",
       "        text-align: right;\n",
       "    }\n",
       "</style>\n",
       "<table border=\"1\" class=\"dataframe\">\n",
       "  <thead>\n",
       "    <tr style=\"text-align: right;\">\n",
       "      <th></th>\n",
       "      <th>MedInc</th>\n",
       "      <th>HouseAge</th>\n",
       "      <th>AveRooms</th>\n",
       "      <th>AveBedrms</th>\n",
       "      <th>Population</th>\n",
       "      <th>AveOccup</th>\n",
       "      <th>Latitude</th>\n",
       "      <th>Longitude</th>\n",
       "      <th>MEDV</th>\n",
       "    </tr>\n",
       "  </thead>\n",
       "  <tbody>\n",
       "    <tr>\n",
       "      <th>0</th>\n",
       "      <td>8.3252</td>\n",
       "      <td>41.0</td>\n",
       "      <td>6.984127</td>\n",
       "      <td>1.023810</td>\n",
       "      <td>322.0</td>\n",
       "      <td>2.555556</td>\n",
       "      <td>37.88</td>\n",
       "      <td>-122.23</td>\n",
       "      <td>4.526</td>\n",
       "    </tr>\n",
       "    <tr>\n",
       "      <th>1</th>\n",
       "      <td>8.3014</td>\n",
       "      <td>21.0</td>\n",
       "      <td>6.238137</td>\n",
       "      <td>0.971880</td>\n",
       "      <td>2401.0</td>\n",
       "      <td>2.109842</td>\n",
       "      <td>37.86</td>\n",
       "      <td>-122.22</td>\n",
       "      <td>3.585</td>\n",
       "    </tr>\n",
       "    <tr>\n",
       "      <th>2</th>\n",
       "      <td>7.2574</td>\n",
       "      <td>52.0</td>\n",
       "      <td>8.288136</td>\n",
       "      <td>1.073446</td>\n",
       "      <td>496.0</td>\n",
       "      <td>2.802260</td>\n",
       "      <td>37.85</td>\n",
       "      <td>-122.24</td>\n",
       "      <td>3.521</td>\n",
       "    </tr>\n",
       "    <tr>\n",
       "      <th>3</th>\n",
       "      <td>5.6431</td>\n",
       "      <td>52.0</td>\n",
       "      <td>5.817352</td>\n",
       "      <td>1.073059</td>\n",
       "      <td>558.0</td>\n",
       "      <td>2.547945</td>\n",
       "      <td>37.85</td>\n",
       "      <td>-122.25</td>\n",
       "      <td>3.413</td>\n",
       "    </tr>\n",
       "    <tr>\n",
       "      <th>4</th>\n",
       "      <td>3.8462</td>\n",
       "      <td>52.0</td>\n",
       "      <td>6.281853</td>\n",
       "      <td>1.081081</td>\n",
       "      <td>565.0</td>\n",
       "      <td>2.181467</td>\n",
       "      <td>37.85</td>\n",
       "      <td>-122.25</td>\n",
       "      <td>3.422</td>\n",
       "    </tr>\n",
       "  </tbody>\n",
       "</table>\n",
       "</div>"
      ],
      "text/plain": [
       "   MedInc  HouseAge  AveRooms  AveBedrms  Population  AveOccup  Latitude  \\\n",
       "0  8.3252      41.0  6.984127   1.023810       322.0  2.555556     37.88   \n",
       "1  8.3014      21.0  6.238137   0.971880      2401.0  2.109842     37.86   \n",
       "2  7.2574      52.0  8.288136   1.073446       496.0  2.802260     37.85   \n",
       "3  5.6431      52.0  5.817352   1.073059       558.0  2.547945     37.85   \n",
       "4  3.8462      52.0  6.281853   1.081081       565.0  2.181467     37.85   \n",
       "\n",
       "   Longitude   MEDV  \n",
       "0    -122.23  4.526  \n",
       "1    -122.22  3.585  \n",
       "2    -122.24  3.521  \n",
       "3    -122.25  3.413  \n",
       "4    -122.25  3.422  "
      ]
     },
     "execution_count": 4,
     "metadata": {},
     "output_type": "execute_result"
    }
   ],
   "source": [
    "data1.head()"
   ]
  },
  {
   "cell_type": "code",
   "execution_count": 5,
   "metadata": {},
   "outputs": [],
   "source": [
    "from sklearn.linear_model import LinearRegression as LinReg"
   ]
  },
  {
   "cell_type": "code",
   "execution_count": 6,
   "metadata": {},
   "outputs": [],
   "source": [
    "linreg=LinReg()\n",
    "\n",
    "linreg.fit(X1_train, y1_train)\n",
    "\n",
    "y1_pred_train = linreg.predict(X1_train)\n",
    "y1_pred_test = linreg.predict(X1_test)"
   ]
  },
  {
   "cell_type": "code",
   "execution_count": 7,
   "metadata": {},
   "outputs": [
    {
     "data": {
      "text/plain": [
       "(array([[0.71912284],\n",
       "        [1.76401657],\n",
       "        [2.70965883],\n",
       "        ...,\n",
       "        [4.46877017],\n",
       "        [1.18751119],\n",
       "        [2.00940251]]),\n",
       " array([[1.93725845],\n",
       "        [2.48910616],\n",
       "        [2.64735483],\n",
       "        ...,\n",
       "        [2.03879912],\n",
       "        [2.84075139],\n",
       "        [2.27373156]]))"
      ]
     },
     "execution_count": 7,
     "metadata": {},
     "output_type": "execute_result"
    }
   ],
   "source": [
    "y1_pred_test, y1_pred_train"
   ]
  },
  {
   "cell_type": "markdown",
   "metadata": {},
   "source": [
    "## 3. Calculate and print R-squared for both the training and the testing set."
   ]
  },
  {
   "cell_type": "code",
   "execution_count": 8,
   "metadata": {},
   "outputs": [],
   "source": [
    "from sklearn.metrics import r2_score as r2"
   ]
  },
  {
   "cell_type": "code",
   "execution_count": 9,
   "metadata": {},
   "outputs": [
    {
     "data": {
      "text/plain": [
       "0.5757877060324511"
      ]
     },
     "execution_count": 9,
     "metadata": {},
     "output_type": "execute_result"
    }
   ],
   "source": [
    "r2(y1_test, y1_pred_test)"
   ]
  },
  {
   "cell_type": "code",
   "execution_count": 10,
   "metadata": {},
   "outputs": [
    {
     "data": {
      "text/plain": [
       "0.6125511913966952"
      ]
     },
     "execution_count": 10,
     "metadata": {},
     "output_type": "execute_result"
    }
   ],
   "source": [
    "r2(y1_train, y1_pred_train)"
   ]
  },
  {
   "cell_type": "markdown",
   "metadata": {},
   "source": [
    "## 4. Calculate and print mean squared error for both the training and the testing set."
   ]
  },
  {
   "cell_type": "code",
   "execution_count": 11,
   "metadata": {},
   "outputs": [],
   "source": [
    "from sklearn.metrics import mean_squared_error as mse"
   ]
  },
  {
   "cell_type": "code",
   "execution_count": 12,
   "metadata": {},
   "outputs": [
    {
     "data": {
      "text/plain": [
       "0.5179331255246697"
      ]
     },
     "execution_count": 12,
     "metadata": {},
     "output_type": "execute_result"
    }
   ],
   "source": [
    "mse(y1_train, y1_pred_train)"
   ]
  },
  {
   "cell_type": "code",
   "execution_count": 13,
   "metadata": {},
   "outputs": [
    {
     "data": {
      "text/plain": [
       "0.555891598695244"
      ]
     },
     "execution_count": 13,
     "metadata": {},
     "output_type": "execute_result"
    }
   ],
   "source": [
    "mse(y1_test, y1_pred_test)"
   ]
  },
  {
   "cell_type": "markdown",
   "metadata": {},
   "source": [
    "## 5. Calculate and print mean absolute error for both the training and the testing set."
   ]
  },
  {
   "cell_type": "code",
   "execution_count": 14,
   "metadata": {},
   "outputs": [],
   "source": [
    "from sklearn.metrics import mean_absolute_error as mae"
   ]
  },
  {
   "cell_type": "code",
   "execution_count": 15,
   "metadata": {
    "scrolled": true
   },
   "outputs": [
    {
     "data": {
      "text/plain": [
       "0.5332001304956566"
      ]
     },
     "execution_count": 15,
     "metadata": {},
     "output_type": "execute_result"
    }
   ],
   "source": [
    "mae(y1_test, y1_pred_test)"
   ]
  },
  {
   "cell_type": "code",
   "execution_count": 16,
   "metadata": {},
   "outputs": [
    {
     "data": {
      "text/plain": [
       "0.5286283596581934"
      ]
     },
     "execution_count": 16,
     "metadata": {},
     "output_type": "execute_result"
    }
   ],
   "source": [
    "mae(y1_train, y1_pred_train)"
   ]
  },
  {
   "cell_type": "markdown",
   "metadata": {},
   "source": [
    "## Classification Model Evaluation"
   ]
  },
  {
   "cell_type": "code",
   "execution_count": 17,
   "metadata": {},
   "outputs": [],
   "source": [
    "from sklearn.datasets import load_iris\n",
    "\n",
    "data2 = load_iris()\n",
    "\n",
    "X2 = pd.DataFrame(data2[\"data\"], columns=data2[\"feature_names\"])\n",
    "y2 = pd.DataFrame(data2[\"target\"], columns=[\"class\"])\n",
    "\n",
    "data2 = pd.concat([X2, y2], axis=1)"
   ]
  },
  {
   "cell_type": "markdown",
   "metadata": {},
   "source": [
    "## 6. Split this data set into training (80%) and testing (20%) sets.\n",
    "\n",
    "The `class` field represents the type of flower and is the target variable that we will want to predict."
   ]
  },
  {
   "cell_type": "code",
   "execution_count": 18,
   "metadata": {},
   "outputs": [],
   "source": [
    "X2_train, X2_test, y2_train, y2_test = tts(X2, y2, train_size=0.8, test_size=0.2, random_state=42)"
   ]
  },
  {
   "cell_type": "markdown",
   "metadata": {},
   "source": [
    "## 7. Train a `LogisticRegression` model on this data set and generate predictions on both the training and the testing set."
   ]
  },
  {
   "cell_type": "code",
   "execution_count": 19,
   "metadata": {},
   "outputs": [],
   "source": [
    "from sklearn.linear_model import LogisticRegression as LogReg"
   ]
  },
  {
   "cell_type": "code",
   "execution_count": 20,
   "metadata": {},
   "outputs": [],
   "source": [
    "logreg=LogReg()\n",
    "\n",
    "logreg.fit(X2_train, y2_train)\n",
    "\n",
    "y2_pred_train = logreg.predict(X2_train)\n",
    "\n",
    "y2_pred_test = logreg.predict(X2_test)"
   ]
  },
  {
   "cell_type": "code",
   "execution_count": 21,
   "metadata": {},
   "outputs": [
    {
     "data": {
      "text/plain": [
       "(array([0, 0, 1, 0, 0, 2, 1, 0, 0, 0, 2, 1, 1, 0, 0, 1, 2, 2, 1, 2, 1, 2,\n",
       "        1, 0, 2, 1, 0, 0, 0, 1, 2, 0, 0, 0, 1, 0, 1, 2, 0, 1, 2, 0, 2, 2,\n",
       "        1, 1, 2, 1, 0, 1, 2, 0, 0, 1, 2, 0, 2, 0, 0, 2, 1, 2, 2, 2, 2, 1,\n",
       "        0, 0, 2, 2, 0, 0, 0, 1, 2, 0, 2, 2, 0, 1, 1, 2, 1, 2, 0, 2, 1, 2,\n",
       "        1, 1, 1, 0, 1, 1, 0, 1, 2, 2, 0, 1, 2, 2, 0, 2, 0, 1, 2, 2, 1, 2,\n",
       "        1, 1, 2, 2, 0, 1, 2, 0, 1, 2]),\n",
       " array([1, 0, 2, 1, 1, 0, 1, 2, 1, 1, 2, 0, 0, 0, 0, 1, 2, 1, 1, 2, 0, 2,\n",
       "        0, 2, 2, 2, 2, 2, 0, 0]))"
      ]
     },
     "execution_count": 21,
     "metadata": {},
     "output_type": "execute_result"
    }
   ],
   "source": [
    "y2_pred_train, y2_pred_test"
   ]
  },
  {
   "cell_type": "markdown",
   "metadata": {},
   "source": [
    "## 8. Calculate and print the accuracy score for both the training and the testing set."
   ]
  },
  {
   "cell_type": "code",
   "execution_count": 22,
   "metadata": {},
   "outputs": [],
   "source": [
    "from sklearn.metrics import accuracy_score as acc"
   ]
  },
  {
   "cell_type": "code",
   "execution_count": 23,
   "metadata": {},
   "outputs": [
    {
     "data": {
      "text/plain": [
       "(1.0, 0.975)"
      ]
     },
     "execution_count": 23,
     "metadata": {},
     "output_type": "execute_result"
    }
   ],
   "source": [
    "acc(y2_test, y2_pred_test), acc(y2_train, y2_pred_train)"
   ]
  },
  {
   "cell_type": "markdown",
   "metadata": {},
   "source": [
    "## 9. Calculate and print the balanced accuracy score for both the training and the testing set."
   ]
  },
  {
   "cell_type": "code",
   "execution_count": 24,
   "metadata": {},
   "outputs": [],
   "source": [
    "from sklearn.metrics import balanced_accuracy_score as balance_acc"
   ]
  },
  {
   "cell_type": "code",
   "execution_count": 25,
   "metadata": {},
   "outputs": [
    {
     "data": {
      "text/plain": [
       "(1.0, 0.975609756097561)"
      ]
     },
     "execution_count": 25,
     "metadata": {},
     "output_type": "execute_result"
    }
   ],
   "source": [
    "balance_acc(y2_test, y2_pred_test), balance_acc(y2_train, y2_pred_train)"
   ]
  },
  {
   "cell_type": "markdown",
   "metadata": {},
   "source": [
    "## 10. Calculate and print the precision score for both the training and the testing set."
   ]
  },
  {
   "cell_type": "code",
   "execution_count": 26,
   "metadata": {},
   "outputs": [],
   "source": [
    "from sklearn.metrics import precision_score as prec"
   ]
  },
  {
   "cell_type": "code",
   "execution_count": 27,
   "metadata": {},
   "outputs": [
    {
     "data": {
      "text/plain": [
       "(0.9767857142857144, 1.0)"
      ]
     },
     "execution_count": 27,
     "metadata": {},
     "output_type": "execute_result"
    }
   ],
   "source": [
    "prec(y2_train, y2_pred_train, average = 'weighted'), prec(y2_test, y2_pred_test, average = 'weighted')"
   ]
  },
  {
   "cell_type": "markdown",
   "metadata": {},
   "source": [
    "## 11. Calculate and print the recall score for both the training and the testing set."
   ]
  },
  {
   "cell_type": "code",
   "execution_count": 28,
   "metadata": {},
   "outputs": [],
   "source": [
    "from sklearn.metrics import recall_score as rec"
   ]
  },
  {
   "cell_type": "code",
   "execution_count": 29,
   "metadata": {},
   "outputs": [
    {
     "data": {
      "text/plain": [
       "(1.0, 0.975)"
      ]
     },
     "execution_count": 29,
     "metadata": {},
     "output_type": "execute_result"
    }
   ],
   "source": [
    "rec(y2_test, y2_pred_test, average = 'micro'), rec(y2_train, y2_pred_train, average = 'micro') "
   ]
  },
  {
   "cell_type": "markdown",
   "metadata": {},
   "source": [
    "## 12. Calculate and print the F1 score for both the training and the testing set."
   ]
  },
  {
   "cell_type": "code",
   "execution_count": 30,
   "metadata": {},
   "outputs": [],
   "source": [
    "from sklearn.metrics import f1_score as f1"
   ]
  },
  {
   "cell_type": "code",
   "execution_count": 31,
   "metadata": {},
   "outputs": [
    {
     "data": {
      "text/plain": [
       "(array([1., 1., 1.]), array([1.        , 0.96202532, 0.96296296]))"
      ]
     },
     "execution_count": 31,
     "metadata": {},
     "output_type": "execute_result"
    }
   ],
   "source": [
    "f1(y2_test, y2_pred_test, average = None), f1(y2_train, y2_pred_train, average = None)"
   ]
  },
  {
   "cell_type": "markdown",
   "metadata": {},
   "source": [
    "## 13. Generate confusion matrices for both the training and the testing set."
   ]
  },
  {
   "cell_type": "code",
   "execution_count": 32,
   "metadata": {},
   "outputs": [],
   "source": [
    "from sklearn.metrics import confusion_matrix as cm"
   ]
  },
  {
   "cell_type": "code",
   "execution_count": 33,
   "metadata": {},
   "outputs": [
    {
     "data": {
      "text/plain": [
       "(array([[10,  0,  0],\n",
       "        [ 0,  9,  0],\n",
       "        [ 0,  0, 11]], dtype=int64),\n",
       " array([[40,  0,  0],\n",
       "        [ 0, 38,  3],\n",
       "        [ 0,  0, 39]], dtype=int64))"
      ]
     },
     "execution_count": 33,
     "metadata": {},
     "output_type": "execute_result"
    }
   ],
   "source": [
    "cm(y2_test, y2_pred_test), cm(y2_train, y2_pred_train) "
   ]
  },
  {
   "cell_type": "code",
   "execution_count": 34,
   "metadata": {},
   "outputs": [],
   "source": [
    "import matplotlib.pyplot as plt\n",
    "%matplotlib inline\n",
    "import seaborn as sns"
   ]
  },
  {
   "cell_type": "code",
   "execution_count": 35,
   "metadata": {},
   "outputs": [
    {
     "data": {
      "image/png": "[encoded data removed]",
      "text/plain": [
       "<Figure size 1000x600 with 2 Axes>"
      ]
     },
     "metadata": {},
     "output_type": "display_data"
    }
   ],
   "source": [
    "plt.figure(figsize=(10, 6))\n",
    "\n",
    "ax=sns.heatmap(cm(y2_test, y2_pred_test)/sum(sum(cm(y2_test, y2_pred_test))), annot=True)\n",
    "\n",
    "plt.title('Matriz confusion')\n",
    "plt.ylabel('Verdad')\n",
    "plt.xlabel('Prediccion')\n",
    "plt.show();"
   ]
  },
  {
   "cell_type": "code",
   "execution_count": 36,
   "metadata": {},
   "outputs": [
    {
     "data": {
      "image/png": "[encoded data removed]",
      "text/plain": [
       "<Figure size 1000x600 with 2 Axes>"
      ]
     },
     "metadata": {},
     "output_type": "display_data"
    }
   ],
   "source": [
    "plt.figure(figsize=(10, 6))\n",
    "\n",
    "ax=sns.heatmap(cm(y2_train, y2_pred_train)/sum(sum(cm(y2_train, y2_pred_train))), annot=True)\n",
    "\n",
    "plt.title('Matriz confusion')\n",
    "plt.ylabel('Verdad')\n",
    "plt.xlabel('Prediccion')\n",
    "plt.show();"
   ]
  },
  {
   "cell_type": "markdown",
   "metadata": {},
   "source": [
    "## Bonus: For each of the data sets in this lab, try training with some of the other models you have learned about, recalculate the evaluation metrics, and compare to determine which models perform best on each data set."
   ]
  },
  {
   "cell_type": "code",
   "execution_count": 37,
   "metadata": {},
   "outputs": [],
   "source": [
    "#%pip install lazypredict"
   ]
  },
  {
   "cell_type": "code",
   "execution_count": 38,
   "metadata": {},
   "outputs": [],
   "source": [
    "from lazypredict.Supervised import LazyRegressor \n",
    "\n",
    "lazy=LazyRegressor()"
   ]
  },
  {
   "cell_type": "code",
   "execution_count": 39,
   "metadata": {},
   "outputs": [],
   "source": [
    "#lazy.fit(X1_train, X1_test, y1_train, y1_test) -> se me cae el kernel al ejecutarlo con este dataframe"
   ]
  },
  {
   "cell_type": "code",
   "execution_count": 40,
   "metadata": {},
   "outputs": [
    {
     "name": "stderr",
     "output_type": "stream",
     "text": [
      "100%|██████████████████████████████████████████████████████████████████████████████████| 42/42 [00:01<00:00, 24.43it/s]\n"
     ]
    },
    {
     "data": {
      "text/plain": [
       "(                               Adjusted R-Squared  R-Squared  RMSE  Time Taken\n",
       " Model                                                                         \n",
       " DecisionTreeRegressor                        1.00       1.00  0.00        0.01\n",
       " AdaBoostRegressor                            1.00       1.00  0.03        0.03\n",
       " BaggingRegressor                             1.00       1.00  0.03        0.02\n",
       " RandomForestRegressor                        1.00       1.00  0.04        0.19\n",
       " XGBRegressor                                 0.99       0.99  0.07        0.07\n",
       " ExtraTreesRegressor                          0.99       0.99  0.07        0.12\n",
       " GradientBoostingRegressor                    0.99       0.99  0.08        0.05\n",
       " KNeighborsRegressor                          0.98       0.98  0.10        0.02\n",
       " HistGradientBoostingRegressor                0.97       0.97  0.14        0.16\n",
       " LGBMRegressor                                0.97       0.97  0.14        0.05\n",
       " NuSVR                                        0.96       0.96  0.16        0.02\n",
       " SVR                                          0.96       0.96  0.16        0.01\n",
       " OrthogonalMatchingPursuit                    0.94       0.95  0.18        0.01\n",
       " HuberRegressor                               0.94       0.95  0.19        0.02\n",
       " LinearSVR                                    0.94       0.95  0.19        0.03\n",
       " LassoCV                                      0.94       0.95  0.19        0.07\n",
       " BayesianRidge                                0.94       0.95  0.19        0.02\n",
       " RANSACRegressor                              0.94       0.95  0.19        0.02\n",
       " LinearRegression                             0.94       0.95  0.19        0.02\n",
       " TransformedTargetRegressor                   0.94       0.95  0.19        0.01\n",
       " OrthogonalMatchingPursuitCV                  0.94       0.95  0.19        0.02\n",
       " LassoLarsCV                                  0.94       0.95  0.19        0.02\n",
       " LassoLarsIC                                  0.94       0.95  0.19        0.02\n",
       " Lars                                         0.94       0.95  0.19        0.02\n",
       " LarsCV                                       0.94       0.95  0.19        0.02\n",
       " RidgeCV                                      0.94       0.95  0.19        0.02\n",
       " Ridge                                        0.94       0.95  0.19        0.01\n",
       " ElasticNetCV                                 0.94       0.95  0.19        0.09\n",
       " SGDRegressor                                 0.92       0.93  0.22        0.01\n",
       " MLPRegressor                                 0.91       0.92  0.24        0.21\n",
       " ExtraTreeRegressor                           0.89       0.90  0.26        0.02\n",
       " PassiveAggressiveRegressor                   0.88       0.90  0.27        0.02\n",
       " TweedieRegressor                             0.84       0.86  0.31        0.01\n",
       " PoissonRegressor                             0.79       0.82  0.36        0.02\n",
       " ElasticNet                                   0.37       0.46  0.62        0.01\n",
       " GaussianProcessRegressor                     0.14       0.26  0.72        0.03\n",
       " QuantileRegressor                           -0.16      -0.00  0.84        0.10\n",
       " LassoLars                                   -0.16      -0.00  0.84        0.02\n",
       " Lasso                                       -0.16      -0.00  0.84        0.02\n",
       " DummyRegressor                              -0.16      -0.00  0.84        0.01\n",
       " KernelRidge                                 -0.61      -0.38  0.98        0.02,\n",
       "                                Adjusted R-Squared  R-Squared  RMSE  Time Taken\n",
       " Model                                                                         \n",
       " DecisionTreeRegressor                        1.00       1.00  0.00        0.01\n",
       " AdaBoostRegressor                            1.00       1.00  0.03        0.03\n",
       " BaggingRegressor                             1.00       1.00  0.03        0.02\n",
       " RandomForestRegressor                        1.00       1.00  0.04        0.19\n",
       " XGBRegressor                                 0.99       0.99  0.07        0.07\n",
       " ExtraTreesRegressor                          0.99       0.99  0.07        0.12\n",
       " GradientBoostingRegressor                    0.99       0.99  0.08        0.05\n",
       " KNeighborsRegressor                          0.98       0.98  0.10        0.02\n",
       " HistGradientBoostingRegressor                0.97       0.97  0.14        0.16\n",
       " LGBMRegressor                                0.97       0.97  0.14        0.05\n",
       " NuSVR                                        0.96       0.96  0.16        0.02\n",
       " SVR                                          0.96       0.96  0.16        0.01\n",
       " OrthogonalMatchingPursuit                    0.94       0.95  0.18        0.01\n",
       " HuberRegressor                               0.94       0.95  0.19        0.02\n",
       " LinearSVR                                    0.94       0.95  0.19        0.03\n",
       " LassoCV                                      0.94       0.95  0.19        0.07\n",
       " BayesianRidge                                0.94       0.95  0.19        0.02\n",
       " RANSACRegressor                              0.94       0.95  0.19        0.02\n",
       " LinearRegression                             0.94       0.95  0.19        0.02\n",
       " TransformedTargetRegressor                   0.94       0.95  0.19        0.01\n",
       " OrthogonalMatchingPursuitCV                  0.94       0.95  0.19        0.02\n",
       " LassoLarsCV                                  0.94       0.95  0.19        0.02\n",
       " LassoLarsIC                                  0.94       0.95  0.19        0.02\n",
       " Lars                                         0.94       0.95  0.19        0.02\n",
       " LarsCV                                       0.94       0.95  0.19        0.02\n",
       " RidgeCV                                      0.94       0.95  0.19        0.02\n",
       " Ridge                                        0.94       0.95  0.19        0.01\n",
       " ElasticNetCV                                 0.94       0.95  0.19        0.09\n",
       " SGDRegressor                                 0.92       0.93  0.22        0.01\n",
       " MLPRegressor                                 0.91       0.92  0.24        0.21\n",
       " ExtraTreeRegressor                           0.89       0.90  0.26        0.02\n",
       " PassiveAggressiveRegressor                   0.88       0.90  0.27        0.02\n",
       " TweedieRegressor                             0.84       0.86  0.31        0.01\n",
       " PoissonRegressor                             0.79       0.82  0.36        0.02\n",
       " ElasticNet                                   0.37       0.46  0.62        0.01\n",
       " GaussianProcessRegressor                     0.14       0.26  0.72        0.03\n",
       " QuantileRegressor                           -0.16      -0.00  0.84        0.10\n",
       " LassoLars                                   -0.16      -0.00  0.84        0.02\n",
       " Lasso                                       -0.16      -0.00  0.84        0.02\n",
       " DummyRegressor                              -0.16      -0.00  0.84        0.01\n",
       " KernelRidge                                 -0.61      -0.38  0.98        0.02)"
      ]
     },
     "execution_count": 40,
     "metadata": {},
     "output_type": "execute_result"
    }
   ],
   "source": [
    "lazy.fit(X2_train, X2_test, y2_train, y2_test)"
   ]
  }
 ],
 "metadata": {
  "kernelspec": {
   "display_name": "Python 3 (ipykernel)",
   "language": "python",
   "name": "python3"
  },
  "language_info": {
   "codemirror_mode": {
    "name": "ipython",
    "version": 3
   },
   "file_extension": ".py",
   "mimetype": "text/x-python",
   "name": "python",
   "nbconvert_exporter": "python",
   "pygments_lexer": "ipython3",
   "version": "3.9.13"
  }
 },
 "nbformat": 4,
 "nbformat_minor": 2
}
